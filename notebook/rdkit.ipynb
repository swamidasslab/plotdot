{
 "cells": [
  {
   "cell_type": "code",
   "execution_count": 1,
   "metadata": {},
   "outputs": [],
   "source": [
    "import rdkit\n",
    "import re"
   ]
  },
  {
   "cell_type": "code",
   "execution_count": 108,
   "metadata": {},
   "outputs": [
    {
     "name": "stdout",
     "output_type": "stream",
     "text": [
      "{'', 'unsigned', 'RDKit::ROMol', 'std::__1::allocator<char> >', 'RDGeom::Point3D', 'RDKit::Atom const*', 'RDKit::Conformer const*', 'RDKit::AtomMonomerInfo::AtomMonomerType', 'double', 'boost::python::dict', 'RDKit::SubstanceGroup', 'ExplicitBitVect*', 'RDKit::Atom*', 'RDKit::Conformer', 'RDKit::MolOps::AromaticityModel', 'RDKit::MolzipParams', 'boost::python::api::object {lvalue}', 'char const*', 'boost::python::api::object', 'RDKit::ROMol {lvalue}', 'unsigned long', 'unsigned long long', 'RDKit::StereoGroupType', 'bool', 'unsigned int', 'std::__1::allocator<char>', 'RDKit::MolBundle', 'int', 'RDKit::MolOps::RemoveHsParameters', 'boost::python::list', 'RDKit::SmilesWriteParams'}\n",
      "{'-1', \"' '\", '2048', '128', 'True', '<rdkit.Chem.rdmolops.MolzipParams object at 0x11960edc0>', 'rdkit.Chem.rdmolops.AromaticityModel.AROMATICITY_DEFAULT', None, '190', \"'rdkitPKL'\", '<rdkit.Geometry.rdGeometry.Point3D object at 0x11960eb40>', 'False', 'None', \"'_GasteigerCharge'\", '2', '5', '1.0', 'rdkit.Chem.rdmolops.SanitizeFlags.SANITIZE_ALL', 'rdkit.Chem.rdmolfiles.CXSmilesFields.CX_ALL', '7', '[]', '<rdkit.Chem.rdmolops.MolzipParams object at 0x11960ed40>', '1', '1000', \"''\", '4294967295', '0', '0.0', \"' \\\\t'\"}\n"
     ]
    }
   ],
   "source": [
    "mod = rdkit.Chem\n",
    "import re\n",
    "_expr = re.compile(\"\\(.*\\)\",flags=re.MULTILINE)\n",
    "\n",
    "from collections import namedtuple\n",
    "\n",
    "defaults = set()\n",
    "types = set()\n",
    "\n",
    "ParsedArg = namedtuple('ParsedArg', [\"type\", \"name\", \"default\"])\n",
    "def parse_args(obj, args):\n",
    "    args = [a.strip() for a in args.split(\",\")]\n",
    "    args = [a.split(\"=\") for a in args]\n",
    "    args = [ParsedArg(\" \".join(a[0].split()[:-1]), a[0].split()[-1], a[1] if len(a) > 1 else None)for a in args]\n",
    "\n",
    "    for typ, name, default in args:\n",
    "        types.add(typ)\n",
    "        defaults.add(default)\n",
    "\n",
    "    return args\n",
    "#    print(obj.__name__, obj.__module__, args)\n",
    "\n",
    "def parse_exception(obj=\"\", e=\"\"):\n",
    "    s = str(e)\n",
    "    return [parse_args(obj , args[1:-1])  for args in _expr.findall(s)[1:]]\n",
    "\n",
    "def get_signature(func):\n",
    "    class UNKNOWN: pass\n",
    "    args = []\n",
    "    try: func(UNKNOWN())\n",
    "    except Exception as e:\n",
    "        args = parse_exception(func, e)\n",
    "    return args\n",
    "\n",
    "for x in dir(mod):\n",
    "    obj = getattr(mod, x)\n",
    "    if hasattr(obj, \"__call__\"):\n",
    "        sig = get_signature(obj)\n",
    "\n",
    "    \n",
    "print(types)\n",
    "print(defaults)"
   ]
  },
  {
   "cell_type": "code",
   "execution_count": 109,
   "metadata": {},
   "outputs": [
    {
     "ename": "AttributeError",
     "evalue": "'Boost.Python.function' object has no attribute '__annotations__'",
     "output_type": "error",
     "traceback": [
      "\u001b[0;31m---------------------------------------------------------------------------\u001b[0m",
      "\u001b[0;31mAttributeError\u001b[0m                            Traceback (most recent call last)",
      "\u001b[0;32m<ipython-input-109-0a97c02cd759>\u001b[0m in \u001b[0;36m<module>\u001b[0;34m\u001b[0m\n\u001b[0;32m----> 1\u001b[0;31m \u001b[0mrdkit\u001b[0m\u001b[0;34m.\u001b[0m\u001b[0mChem\u001b[0m\u001b[0;34m.\u001b[0m\u001b[0mMolFromSmiles\u001b[0m\u001b[0;34m.\u001b[0m\u001b[0m__annotations__\u001b[0m\u001b[0;34m\u001b[0m\u001b[0;34m\u001b[0m\u001b[0m\n\u001b[0m",
      "\u001b[0;31mAttributeError\u001b[0m: 'Boost.Python.function' object has no attribute '__annotations__'"
     ]
    }
   ],
   "source": [
    "rdkit.Chem.MolFromSmiles.__annotations__ "
   ]
  },
  {
   "cell_type": "code",
   "execution_count": 97,
   "metadata": {},
   "outputs": [
    {
     "ename": "AttributeError",
     "evalue": "'function' object has no attribute '__args__'",
     "output_type": "error",
     "traceback": [
      "\u001b[0;31m---------------------------------------------------------------------------\u001b[0m",
      "\u001b[0;31mAttributeError\u001b[0m                            Traceback (most recent call last)",
      "\u001b[0;32m<ipython-input-97-ea8a1386e02d>\u001b[0m in \u001b[0;36m<module>\u001b[0;34m\u001b[0m\n\u001b[0;32m----> 1\u001b[0;31m \u001b[0mparse_exception\u001b[0m\u001b[0;34m.\u001b[0m\u001b[0m__args__\u001b[0m\u001b[0;34m\u001b[0m\u001b[0;34m\u001b[0m\u001b[0m\n\u001b[0m",
      "\u001b[0;31mAttributeError\u001b[0m: 'function' object has no attribute '__args__'"
     ]
    }
   ],
   "source": [
    "parse_exception.__gi"
   ]
  },
  {
   "cell_type": "code",
   "execution_count": 98,
   "metadata": {},
   "outputs": [],
   "source": [
    "import inspect"
   ]
  },
  {
   "cell_type": "code",
   "execution_count": 112,
   "metadata": {},
   "outputs": [
    {
     "data": {
      "text/plain": [
       "<Signature (obj='', e='')>"
      ]
     },
     "execution_count": 112,
     "metadata": {},
     "output_type": "execute_result"
    }
   ],
   "source": [
    "inspect.getargspec(parse_exception)"
   ]
  },
  {
   "cell_type": "code",
   "execution_count": 110,
   "metadata": {},
   "outputs": [
    {
     "ename": "TypeError",
     "evalue": "<lambda>() missing 4 required positional arguments: 'args', 'varargs', 'keywords', and 'defaults'",
     "output_type": "error",
     "traceback": [
      "\u001b[0;31m---------------------------------------------------------------------------\u001b[0m",
      "\u001b[0;31mTypeError\u001b[0m                                 Traceback (most recent call last)",
      "\u001b[0;32m<ipython-input-110-c6054ca9e5a8>\u001b[0m in \u001b[0;36m<module>\u001b[0;34m\u001b[0m\n\u001b[0;32m----> 1\u001b[0;31m \u001b[0minspect\u001b[0m\u001b[0;34m.\u001b[0m\u001b[0mArgSpec\u001b[0m\u001b[0;34m(\u001b[0m\u001b[0;34m)\u001b[0m\u001b[0;34m\u001b[0m\u001b[0;34m\u001b[0m\u001b[0m\n\u001b[0m",
      "\u001b[0;31mTypeError\u001b[0m: <lambda>() missing 4 required positional arguments: 'args', 'varargs', 'keywords', and 'defaults'"
     ]
    }
   ],
   "source": [
    "inspect.ArgSpec()"
   ]
  },
  {
   "cell_type": "code",
   "execution_count": 115,
   "metadata": {},
   "outputs": [
    {
     "ename": "TypeError",
     "evalue": "'Parameter' object is not iterable",
     "output_type": "error",
     "traceback": [
      "\u001b[0;31m---------------------------------------------------------------------------\u001b[0m",
      "\u001b[0;31mTypeError\u001b[0m                                 Traceback (most recent call last)",
      "\u001b[0;32m<ipython-input-115-a69f04eb5731>\u001b[0m in \u001b[0;36m<module>\u001b[0;34m\u001b[0m\n\u001b[0;32m----> 1\u001b[0;31m \u001b[0minspect\u001b[0m\u001b[0;34m.\u001b[0m\u001b[0mSignature\u001b[0m\u001b[0;34m(\u001b[0m\u001b[0minspect\u001b[0m\u001b[0;34m.\u001b[0m\u001b[0mParameter\u001b[0m\u001b[0;34m(\u001b[0m\u001b[0;34m\"x\"\u001b[0m\u001b[0;34m,\u001b[0m\u001b[0minspect\u001b[0m\u001b[0;34m.\u001b[0m\u001b[0mParameter\u001b[0m\u001b[0;34m.\u001b[0m\u001b[0mPOSITIONAL_OR_KEYWORD\u001b[0m\u001b[0;34m,\u001b[0m\u001b[0mdefault\u001b[0m\u001b[0;34m=\u001b[0m\u001b[0;36m0\u001b[0m\u001b[0;34m,\u001b[0m \u001b[0mannotation\u001b[0m\u001b[0;34m=\u001b[0m\u001b[0;34m\"int\"\u001b[0m\u001b[0;34m)\u001b[0m\u001b[0;34m)\u001b[0m\u001b[0;34m\u001b[0m\u001b[0;34m\u001b[0m\u001b[0m\n\u001b[0m",
      "\u001b[0;32m/usr/local/Cellar/python@3.9/3.9.14/Frameworks/Python.framework/Versions/3.9/lib/python3.9/inspect.py\u001b[0m in \u001b[0;36m__init__\u001b[0;34m(self, parameters, return_annotation, __validate_parameters__)\u001b[0m\n\u001b[1;32m   2793\u001b[0m                 \u001b[0mkind_defaults\u001b[0m \u001b[0;34m=\u001b[0m \u001b[0;32mFalse\u001b[0m\u001b[0;34m\u001b[0m\u001b[0;34m\u001b[0m\u001b[0m\n\u001b[1;32m   2794\u001b[0m \u001b[0;34m\u001b[0m\u001b[0m\n\u001b[0;32m-> 2795\u001b[0;31m                 \u001b[0;32mfor\u001b[0m \u001b[0mparam\u001b[0m \u001b[0;32min\u001b[0m \u001b[0mparameters\u001b[0m\u001b[0;34m:\u001b[0m\u001b[0;34m\u001b[0m\u001b[0;34m\u001b[0m\u001b[0m\n\u001b[0m\u001b[1;32m   2796\u001b[0m                     \u001b[0mkind\u001b[0m \u001b[0;34m=\u001b[0m \u001b[0mparam\u001b[0m\u001b[0;34m.\u001b[0m\u001b[0mkind\u001b[0m\u001b[0;34m\u001b[0m\u001b[0;34m\u001b[0m\u001b[0m\n\u001b[1;32m   2797\u001b[0m                     \u001b[0mname\u001b[0m \u001b[0;34m=\u001b[0m \u001b[0mparam\u001b[0m\u001b[0;34m.\u001b[0m\u001b[0mname\u001b[0m\u001b[0;34m\u001b[0m\u001b[0;34m\u001b[0m\u001b[0m\n",
      "\u001b[0;31mTypeError\u001b[0m: 'Parameter' object is not iterable"
     ]
    }
   ],
   "source": [
    "inspect.Signature()"
   ]
  },
  {
   "cell_type": "code",
   "execution_count": 120,
   "metadata": {},
   "outputs": [
    {
     "data": {
      "text/plain": [
       "<Parameter \"x: int = 0\">"
      ]
     },
     "execution_count": 120,
     "metadata": {},
     "output_type": "execute_result"
    }
   ],
   "source": [
    "inspect.Parameter(\"x\",inspect.Parameter.POSITIONAL_OR_KEYWORD,default=0, annotation=int)"
   ]
  },
  {
   "cell_type": "code",
   "execution_count": 121,
   "metadata": {},
   "outputs": [],
   "source": [
    "from rdkit.Chem import rdmolops"
   ]
  },
  {
   "cell_type": "code",
   "execution_count": 125,
   "metadata": {},
   "outputs": [
    {
     "ename": "ModuleNotFoundError",
     "evalue": "No module named 'rdkit.rdmolops'",
     "output_type": "error",
     "traceback": [
      "\u001b[0;31m---------------------------------------------------------------------------\u001b[0m",
      "\u001b[0;31mModuleNotFoundError\u001b[0m                       Traceback (most recent call last)",
      "\u001b[0;32m<ipython-input-125-15d7236b9397>\u001b[0m in \u001b[0;36m<module>\u001b[0;34m\u001b[0m\n\u001b[0;32m----> 1\u001b[0;31m \u001b[0;32mimport\u001b[0m \u001b[0mrdkit\u001b[0m\u001b[0;34m.\u001b[0m\u001b[0mrdmolops\u001b[0m\u001b[0;34m.\u001b[0m\u001b[0mMolzipParams\u001b[0m\u001b[0;34m\u001b[0m\u001b[0;34m\u001b[0m\u001b[0m\n\u001b[0m",
      "\u001b[0;31mModuleNotFoundError\u001b[0m: No module named 'rdkit.rdmolops'"
     ]
    }
   ],
   "source": [
    "import rdkit.rdmolops.MolzipParams"
   ]
  },
  {
   "cell_type": "code",
   "execution_count": 129,
   "metadata": {},
   "outputs": [
    {
     "data": {
      "text/plain": [
       "rdkit.Chem.rdmolops.AromaticityModel.AROMATICITY_DEFAULT"
      ]
     },
     "execution_count": 129,
     "metadata": {},
     "output_type": "execute_result"
    }
   ],
   "source": [
    "rdmolops.AromaticityModel.AROMATICITY_DEFAULT"
   ]
  },
  {
   "cell_type": "code",
   "execution_count": 130,
   "metadata": {},
   "outputs": [],
   "source": [
    "import rdkit.Chem.rdmolops\n"
   ]
  },
  {
   "cell_type": "code",
   "execution_count": 139,
   "metadata": {},
   "outputs": [
    {
     "name": "stdout",
     "output_type": "stream",
     "text": [
      "<rdkit.Chem.rdmolops.MolzipParams object at 0x11960edc0>\n",
      "<rdkit.Geometry.rdGeometry.Point3D object at 0x11960eb40>\n",
      "<rdkit.Chem.rdmolops.MolzipParams object at 0x11960ed40>\n"
     ]
    }
   ],
   "source": [
    "DEFAULTS = {}\n",
    "\n",
    "for d in defaults:\n",
    "    if d == None: continue\n",
    "    if d[0] + d[-1] == \"''\":\n",
    "        DEFAULTS[d] = d[1:-1]\n",
    "        continue\n",
    "    try:\n",
    "        DEFAULTS[d] = eval(d)\n",
    "    except SyntaxError:\n",
    "        print(d)"
   ]
  },
  {
   "cell_type": "code",
   "execution_count": 140,
   "metadata": {},
   "outputs": [
    {
     "name": "stdout",
     "output_type": "stream",
     "text": [
      "\n",
      "unsigned\n",
      "RDKit::ROMol\n",
      "std::__1::allocator<char> >\n",
      "RDGeom::Point3D\n",
      "RDKit::Atom const*\n",
      "RDKit::Conformer const*\n",
      "RDKit::AtomMonomerInfo::AtomMonomerType\n",
      "double\n",
      "boost::python::dict\n",
      "RDKit::SubstanceGroup\n",
      "ExplicitBitVect*\n",
      "RDKit::Atom*\n",
      "RDKit::Conformer\n",
      "RDKit::MolOps::AromaticityModel\n",
      "RDKit::MolzipParams\n",
      "boost::python::api::object {lvalue}\n",
      "char const*\n",
      "boost::python::api::object\n",
      "RDKit::ROMol {lvalue}\n",
      "unsigned long\n",
      "unsigned long long\n",
      "RDKit::StereoGroupType\n",
      "bool\n",
      "unsigned int\n",
      "std::__1::allocator<char>\n",
      "RDKit::MolBundle\n",
      "int\n",
      "RDKit::MolOps::RemoveHsParameters\n",
      "boost::python::list\n",
      "RDKit::SmilesWriteParams\n"
     ]
    }
   ],
   "source": [
    "TYPES = \n",
    "\n",
    "for d in types:\n",
    "    print(d)"
   ]
  },
  {
   "cell_type": "code",
   "execution_count": 3,
   "metadata": {},
   "outputs": [
    {
     "data": {
      "text/plain": [
       "<function rdkit.Chem.rdmolfiles.MolFromSmiles>"
      ]
     },
     "execution_count": 3,
     "metadata": {},
     "output_type": "execute_result"
    }
   ],
   "source": [
    "import rdkit.Chem.rdmolfiles\n",
    "rdkit.Chem.rdmolfiles.MolFromSmiles"
   ]
  },
  {
   "cell_type": "code",
   "execution_count": 4,
   "metadata": {},
   "outputs": [
    {
     "data": {
      "text/plain": [
       "rdkit.Chem.rdchem.AtomMonomerType"
      ]
     },
     "execution_count": 4,
     "metadata": {},
     "output_type": "execute_result"
    }
   ],
   "source": [
    "rdkit.Chem.AtomMonomerType"
   ]
  },
  {
   "cell_type": "code",
   "execution_count": 6,
   "metadata": {},
   "outputs": [
    {
     "ename": "AttributeError",
     "evalue": "'Boost.Python.function' object has no attribute '__anotations__'",
     "output_type": "error",
     "traceback": [
      "\u001b[0;31m---------------------------------------------------------------------------\u001b[0m",
      "\u001b[0;31mAttributeError\u001b[0m                            Traceback (most recent call last)",
      "\u001b[0;32m<ipython-input-6-76cdf1a5b82b>\u001b[0m in \u001b[0;36m<module>\u001b[0;34m\u001b[0m\n\u001b[0;32m----> 1\u001b[0;31m \u001b[0mrdkit\u001b[0m\u001b[0;34m.\u001b[0m\u001b[0mChem\u001b[0m\u001b[0;34m.\u001b[0m\u001b[0mrdmolfiles\u001b[0m\u001b[0;34m.\u001b[0m\u001b[0mMolFromSmiles\u001b[0m\u001b[0;34m.\u001b[0m\u001b[0m__anotations__\u001b[0m\u001b[0;34m\u001b[0m\u001b[0;34m\u001b[0m\u001b[0m\n\u001b[0m",
      "\u001b[0;31mAttributeError\u001b[0m: 'Boost.Python.function' object has no attribute '__anotations__'"
     ]
    }
   ],
   "source": [
    "rdkit.Chem.rdmolfiles.MolFromSmiles.__anotations__"
   ]
  },
  {
   "cell_type": "code",
   "execution_count": 8,
   "metadata": {},
   "outputs": [
    {
     "ename": "AttributeError",
     "evalue": "'Boost.Python.function' object has no attribute '__anotations__'",
     "output_type": "error",
     "traceback": [
      "\u001b[0;31m---------------------------------------------------------------------------\u001b[0m",
      "\u001b[0;31mAttributeError\u001b[0m                            Traceback (most recent call last)",
      "\u001b[0;32m<ipython-input-8-369ada9cf951>\u001b[0m in \u001b[0;36m<module>\u001b[0;34m\u001b[0m\n\u001b[0;32m----> 1\u001b[0;31m \u001b[0mprint\u001b[0m\u001b[0;34m(\u001b[0m\u001b[0mrdkit\u001b[0m\u001b[0;34m.\u001b[0m\u001b[0mChem\u001b[0m\u001b[0;34m.\u001b[0m\u001b[0mMolFromSmiles\u001b[0m\u001b[0;34m.\u001b[0m\u001b[0m__anotations__\u001b[0m\u001b[0;34m)\u001b[0m\u001b[0;34m\u001b[0m\u001b[0;34m\u001b[0m\u001b[0m\n\u001b[0m",
      "\u001b[0;31mAttributeError\u001b[0m: 'Boost.Python.function' object has no attribute '__anotations__'"
     ]
    }
   ],
   "source": [
    "print(rdkit.Chem.MolFromSmiles.__anotations__)"
   ]
  },
  {
   "cell_type": "code",
   "execution_count": 14,
   "metadata": {},
   "outputs": [
    {
     "ename": "AttributeError",
     "evalue": "'Boost.Python.function' object has no attribute '__text_signature__'",
     "output_type": "error",
     "traceback": [
      "\u001b[0;31m---------------------------------------------------------------------------\u001b[0m",
      "\u001b[0;31mAttributeError\u001b[0m                            Traceback (most recent call last)",
      "\u001b[0;32m<ipython-input-14-913af9f66c05>\u001b[0m in \u001b[0;36m<module>\u001b[0;34m\u001b[0m\n\u001b[0;32m----> 1\u001b[0;31m \u001b[0mgetattr\u001b[0m\u001b[0;34m(\u001b[0m\u001b[0mrdkit\u001b[0m\u001b[0;34m.\u001b[0m\u001b[0mChem\u001b[0m\u001b[0;34m.\u001b[0m\u001b[0mrdmolfiles\u001b[0m\u001b[0;34m.\u001b[0m\u001b[0mMolFromSmiles\u001b[0m\u001b[0;34m,\u001b[0m \u001b[0;34m\"__text_signature__\"\u001b[0m\u001b[0;34m)\u001b[0m\u001b[0;34m\u001b[0m\u001b[0;34m\u001b[0m\u001b[0m\n\u001b[0m",
      "\u001b[0;31mAttributeError\u001b[0m: 'Boost.Python.function' object has no attribute '__text_signature__'"
     ]
    }
   ],
   "source": [
    "getattr(rdkit.Chem.rdmolfiles.MolFromSmiles, \"__text_signature__\")"
   ]
  },
  {
   "cell_type": "code",
   "execution_count": 15,
   "metadata": {},
   "outputs": [
    {
     "ename": "AttributeError",
     "evalue": "'Boost.Python.function' object has no attribute '__text_signature__'",
     "output_type": "error",
     "traceback": [
      "\u001b[0;31m---------------------------------------------------------------------------\u001b[0m",
      "\u001b[0;31mAttributeError\u001b[0m                            Traceback (most recent call last)",
      "\u001b[0;32m<ipython-input-15-6700163c61c4>\u001b[0m in \u001b[0;36m<module>\u001b[0;34m\u001b[0m\n\u001b[0;32m----> 1\u001b[0;31m \u001b[0mrdkit\u001b[0m\u001b[0;34m.\u001b[0m\u001b[0mChem\u001b[0m\u001b[0;34m.\u001b[0m\u001b[0mrdmolfiles\u001b[0m\u001b[0;34m.\u001b[0m\u001b[0mMolFromSmiles\u001b[0m\u001b[0;34m.\u001b[0m\u001b[0m__text_signature__\u001b[0m\u001b[0;34m\u001b[0m\u001b[0;34m\u001b[0m\u001b[0m\n\u001b[0m",
      "\u001b[0;31mAttributeError\u001b[0m: 'Boost.Python.function' object has no attribute '__text_signature__'"
     ]
    }
   ],
   "source": [
    "rdkit.Chem.rdmolfiles.MolFromSmiles"
   ]
  },
  {
   "cell_type": "code",
   "execution_count": 22,
   "metadata": {},
   "outputs": [
    {
     "data": {
      "text/plain": [
       "<function rdkit.Chem.rdmolfiles.MolFromRDKitSVG>"
      ]
     },
     "execution_count": 22,
     "metadata": {},
     "output_type": "execute_result"
    }
   ],
   "source": [
    "rdkit.Chem.MolFromRDKitSVG"
   ]
  },
  {
   "cell_type": "code",
   "execution_count": 29,
   "metadata": {},
   "outputs": [
    {
     "data": {
      "text/plain": [
       "True"
      ]
     },
     "execution_count": 29,
     "metadata": {},
     "output_type": "execute_result"
    }
   ],
   "source": [
    "import inspect\n",
    "inspect.isbuiltin(rdkit.Chem.MolFromRDKitSVG)"
   ]
  },
  {
   "cell_type": "code",
   "execution_count": 33,
   "metadata": {},
   "outputs": [
    {
     "ename": "TypeError",
     "evalue": "can't set attributes of built-in/extension type 'dict'",
     "output_type": "error",
     "traceback": [
      "\u001b[0;31m---------------------------------------------------------------------------\u001b[0m",
      "\u001b[0;31mTypeError\u001b[0m                                 Traceback (most recent call last)",
      "\u001b[0;32m<ipython-input-33-35d7cae028d8>\u001b[0m in \u001b[0;36m<module>\u001b[0;34m\u001b[0m\n\u001b[0;32m----> 1\u001b[0;31m \u001b[0mdict\u001b[0m\u001b[0;34m.\u001b[0m\u001b[0m__signature__\u001b[0m \u001b[0;34m=\u001b[0m\u001b[0;34m\"\"\u001b[0m\u001b[0;34m\u001b[0m\u001b[0;34m\u001b[0m\u001b[0m\n\u001b[0m",
      "\u001b[0;31mTypeError\u001b[0m: can't set attributes of built-in/extension type 'dict'"
     ]
    }
   ],
   "source": [
    "dict.__signature__ =\"\""
   ]
  },
  {
   "cell_type": "code",
   "execution_count": 35,
   "metadata": {},
   "outputs": [],
   "source": [
    "class C(rdkit.Chem.Mol): pass"
   ]
  },
  {
   "cell_type": "code",
   "execution_count": 37,
   "metadata": {},
   "outputs": [
    {
     "data": {
      "text/plain": [
       "<__main__.C at 0x11eae1590>"
      ]
     },
     "execution_count": 37,
     "metadata": {},
     "output_type": "execute_result"
    }
   ],
   "source": [
    "C()"
   ]
  },
  {
   "cell_type": "code",
   "execution_count": 3,
   "metadata": {},
   "outputs": [
    {
     "data": {
      "text/plain": [
       "'[[0.7, 0.1, 0.5], [0.9, 0.5, 0.7], [0.6, 0.8, 0.3], [0.4, 0.8, 0.1], [0.4, 0.5, 0.4], [1.0, 0.5, 0.6], [0.6, 0.3, 0.8], [0.4, 1.0, 0.6], [0.4, 0.1, 1.0], [0.7, 0.3, 0.1]]'"
      ]
     },
     "execution_count": 3,
     "metadata": {},
     "output_type": "execute_result"
    }
   ],
   "source": [
    "import numpy as np\n",
    "\n",
    "R = np.random.rand(10,3)\n",
    "\n",
    "import simplejson as json\n",
    "\n",
    "json.encoder.FLOAT_REPR = lambda o: format(o, '.1f')\n",
    "json.encoder.c_make_encoder = None\n",
    "\n",
    "\n",
    "\n",
    "json.dumps(R.tolist())\n"
   ]
  },
  {
   "cell_type": "code",
   "execution_count": 1,
   "metadata": {},
   "outputs": [],
   "source": []
  },
  {
   "cell_type": "code",
   "execution_count": 1,
   "metadata": {},
   "outputs": [],
   "source": [
    "import json"
   ]
  },
  {
   "cell_type": "code",
   "execution_count": null,
   "metadata": {},
   "outputs": [],
   "source": [
    "json.encoder.JSONEncoder."
   ]
  }
 ],
 "metadata": {
  "kernelspec": {
   "display_name": "Python 3.9.13 ('python-3.9.13': venv)",
   "language": "python",
   "name": "python3"
  },
  "language_info": {
   "codemirror_mode": {
    "name": "ipython",
    "version": 3
   },
   "file_extension": ".py",
   "mimetype": "text/x-python",
   "name": "python",
   "nbconvert_exporter": "python",
   "pygments_lexer": "ipython3",
   "version": "3.9.13"
  },
  "orig_nbformat": 4,
  "vscode": {
   "interpreter": {
    "hash": "d9c489737dff991e7ead8606383841cdd62971ca7ea725ef623f0e1814f11fa1"
   }
  }
 },
 "nbformat": 4,
 "nbformat_minor": 2
}
