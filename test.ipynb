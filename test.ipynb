{
 "cells": [
  {
   "cell_type": "code",
   "execution_count": 1,
   "id": "a28064fa",
   "metadata": {
    "papermill": {
     "duration": null,
     "end_time": null,
     "exception": null,
     "start_time": null,
     "status": "completed"
    },
    "tags": []
   },
   "outputs": [
    {
     "ename": "ModuleNotFoundError",
     "evalue": "No module named 'cssutils'",
     "output_type": "error",
     "traceback": [
      "\u001b[0;31m---------------------------------------------------------------------------\u001b[0m",
      "\u001b[0;31mModuleNotFoundError\u001b[0m                       Traceback (most recent call last)",
      "Cell \u001b[0;32mIn [1], line 1\u001b[0m\n\u001b[0;32m----> 1\u001b[0m \u001b[38;5;28;01mimport\u001b[39;00m \u001b[38;5;21;01mcssutils\u001b[39;00m\n",
      "\u001b[0;31mModuleNotFoundError\u001b[0m: No module named 'cssutils'"
     ]
    }
   ],
   "source": [
    "import cssutils"
   ]
  },
  {
   "cell_type": "code",
   "execution_count": null,
   "id": "20142454",
   "metadata": {
    "papermill": {
     "duration": null,
     "end_time": null,
     "exception": null,
     "start_time": null,
     "status": "completed"
    },
    "tags": []
   },
   "outputs": [],
   "source": [
    "# Atom shading \n",
    "drawer = Xenopict(mol)\n",
    "drawer.shade(shading)\n",
    "drawer.halo()\n"
   ]
  },
  {
   "cell_type": "code",
   "execution_count": null,
   "id": "ee5fbf5a",
   "metadata": {
    "papermill": {
     "duration": null,
     "end_time": null,
     "exception": null,
     "start_time": null,
     "status": "completed"
    },
    "tags": []
   },
   "outputs": [],
   "source": [
    "a1 = [b.GetBeginAtomIdx() for b in mol.GetBonds()]\n",
    "a2 = [b.GetEndAtomIdx() for b in mol.GetBonds()]\n",
    "bshading = (shading[a1] + shading[a2])  / 2\n",
    "\n",
    "# Bond shading\n",
    "drawer = Xenopict(mol)\n",
    "drawer.shade(bond_shading=(a1, a2, bshading)).halo()"
   ]
  },
  {
   "cell_type": "code",
   "execution_count": null,
   "id": "18bf0ae9",
   "metadata": {
    "papermill": {
     "duration": null,
     "end_time": null,
     "exception": null,
     "start_time": null,
     "status": "completed"
    },
    "tags": []
   },
   "outputs": [],
   "source": [
    "# Atom and bond shading togetehr\n",
    "drawer = Xenopict(mol)\n",
    "drawer.shade(shading, bond_shading=(a1, a2, bshading))\n",
    "drawer.halo()"
   ]
  },
  {
   "cell_type": "code",
   "execution_count": null,
   "id": "ede56cf0",
   "metadata": {
    "papermill": {
     "duration": null,
     "end_time": null,
     "exception": null,
     "start_time": null,
     "status": "completed"
    },
    "tags": []
   },
   "outputs": [],
   "source": [
    "# Mark substructures (defined as a list of atom IDs)\n",
    "drawer.mark_substructure([0,1,2,3, 10])"
   ]
  },
  {
   "cell_type": "code",
   "execution_count": null,
   "id": "9f501b6a",
   "metadata": {
    "papermill": {
     "duration": null,
     "end_time": null,
     "exception": null,
     "start_time": null,
     "status": "completed"
    },
    "tags": []
   },
   "outputs": [],
   "source": [
    "# Shade substructures\n",
    "drawer = Xenopict(mol)\n",
    "drawer.shade_substructure([[0,1,2,3], [7,8,9,10], [3,4,5,9]], [1, -0.65, 0.6])\n",
    "drawer.halo()\n"
   ]
  },
  {
   "cell_type": "code",
   "execution_count": null,
   "id": "e9173899",
   "metadata": {
    "papermill": {
     "duration": null,
     "end_time": null,
     "exception": null,
     "start_time": null,
     "status": "completed"
    },
    "tags": []
   },
   "outputs": [],
   "source": [
    "# Another one of the xenosite colormaps\n",
    "Xenopict(mol, cmap=\"xenosite_pwo\").shade(shading).halo()"
   ]
  },
  {
   "cell_type": "code",
   "execution_count": null,
   "id": "16a1af3e",
   "metadata": {
    "papermill": {
     "duration": null,
     "end_time": null,
     "exception": null,
     "start_time": null,
     "status": "completed"
    },
    "tags": []
   },
   "outputs": [],
   "source": [
    "# any matplotlib colormap works, but most won't look as good as the default\n",
    "Xenopict(mol, cmap=\"RdBu\").shade(shading).halo()"
   ]
  },
  {
   "cell_type": "code",
   "execution_count": null,
   "id": "187da6c5",
   "metadata": {
    "papermill": {
     "duration": null,
     "end_time": null,
     "exception": null,
     "start_time": null,
     "status": "completed"
    },
    "tags": []
   },
   "outputs": [],
   "source": [
    "# depeict a substructure\n",
    "drawer = Xenopict(mol)\n",
    "drawer.substructure_focus([0,1,2,3])\n"
   ]
  },
  {
   "cell_type": "code",
   "execution_count": null,
   "id": "46053a6c",
   "metadata": {
    "papermill": {
     "duration": null,
     "end_time": null,
     "exception": null,
     "start_time": null,
     "status": "completed"
    },
    "tags": []
   },
   "outputs": [],
   "source": [
    "#get the SVG\n",
    "svg = str(drawer)\n",
    "print(svg)"
   ]
  },
  {
   "cell_type": "code",
   "execution_count": null,
   "id": "7e9ca950",
   "metadata": {
    "papermill": {
     "duration": null,
     "end_time": null,
     "exception": null,
     "start_time": null,
     "status": "completed"
    },
    "tags": []
   },
   "outputs": [],
   "source": []
  }
 ],
 "metadata": {
  "kernelspec": {
   "display_name": "Python 3.9.13 ('python-3.9.13': venv)",
   "language": "python",
   "name": "python3"
  },
  "language_info": {
   "codemirror_mode": {
    "name": "ipython",
    "version": 3
   },
   "file_extension": ".py",
   "mimetype": "text/x-python",
   "name": "python",
   "nbconvert_exporter": "python",
   "pygments_lexer": "ipython3",
   "version": "3.9.13"
  },
  "papermill": {
   "default_parameters": {},
   "duration": 0.513863,
   "end_time": "2022-09-14T04:06:11.578971",
   "environment_variables": {},
   "exception": null,
   "input_path": "notebook/examples.ipynb",
   "output_path": "test.ipynb",
   "parameters": {},
   "start_time": "2022-09-14T04:06:11.065108",
   "version": "2.4.0"
  },
  "vscode": {
   "interpreter": {
    "hash": "d9c489737dff991e7ead8606383841cdd62971ca7ea725ef623f0e1814f11fa1"
   }
  }
 },
 "nbformat": 4,
 "nbformat_minor": 5
}
