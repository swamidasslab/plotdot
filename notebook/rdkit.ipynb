{
 "cells": [
  {
   "cell_type": "code",
   "execution_count": null,
   "metadata": {},
   "outputs": [],
   "source": [
    "import rdkit\n",
    "import re"
   ]
  },
  {
   "cell_type": "code",
   "execution_count": null,
   "metadata": {},
   "outputs": [],
   "source": [
    "mod = rdkit.Chem\n",
    "import re\n",
    "_expr = re.compile(\"\\(.*\\)\",flags=re.MULTILINE)\n",
    "\n",
    "from collections import namedtuple\n",
    "\n",
    "defaults = set()\n",
    "types = set()\n",
    "\n",
    "ParsedArg = namedtuple('ParsedArg', [\"type\", \"name\", \"default\"])\n",
    "def parse_args(obj, args):\n",
    "    args = [a.strip() for a in args.split(\",\")]\n",
    "    args = [a.split(\"=\") for a in args]\n",
    "    args = [ParsedArg(\" \".join(a[0].split()[:-1]), a[0].split()[-1], a[1] if len(a) > 1 else None)for a in args]\n",
    "\n",
    "    for typ, name, default in args:\n",
    "        types.add(typ)\n",
    "        defaults.add(default)\n",
    "\n",
    "    return args\n",
    "#    print(obj.__name__, obj.__module__, args)\n",
    "\n",
    "def parse_exception(obj=\"\", e=\"\"):\n",
    "    s = str(e)\n",
    "    return [parse_args(obj , args[1:-1])  for args in _expr.findall(s)[1:]]\n",
    "\n",
    "def get_signature(func):\n",
    "    class UNKNOWN: pass\n",
    "    args = []\n",
    "    try: func(UNKNOWN())\n",
    "    except Exception as e:\n",
    "        args = parse_exception(func, e)\n",
    "    return args\n",
    "\n",
    "for x in dir(mod):\n",
    "    obj = getattr(mod, x)\n",
    "    if hasattr(obj, \"__call__\"):\n",
    "        sig = get_signature(obj)\n",
    "\n",
    "    \n",
    "print(types)\n",
    "print(defaults)"
   ]
  },
  {
   "cell_type": "code",
   "execution_count": null,
   "metadata": {},
   "outputs": [],
   "source": [
    "rdkit.Chem.MolFromSmiles.__annotations__ "
   ]
  },
  {
   "cell_type": "code",
   "execution_count": null,
   "metadata": {},
   "outputs": [],
   "source": [
    "parse_exception.__gi"
   ]
  },
  {
   "cell_type": "code",
   "execution_count": null,
   "metadata": {},
   "outputs": [],
   "source": [
    "import inspect"
   ]
  },
  {
   "cell_type": "code",
   "execution_count": null,
   "metadata": {},
   "outputs": [],
   "source": [
    "inspect.getargspec(parse_exception)"
   ]
  },
  {
   "cell_type": "code",
   "execution_count": null,
   "metadata": {},
   "outputs": [],
   "source": [
    "inspect.ArgSpec()"
   ]
  },
  {
   "cell_type": "code",
   "execution_count": null,
   "metadata": {},
   "outputs": [],
   "source": [
    "inspect.Signature()"
   ]
  },
  {
   "cell_type": "code",
   "execution_count": null,
   "metadata": {},
   "outputs": [],
   "source": [
    "inspect.Parameter(\"x\",inspect.Parameter.POSITIONAL_OR_KEYWORD,default=0, annotation=int)"
   ]
  },
  {
   "cell_type": "code",
   "execution_count": null,
   "metadata": {},
   "outputs": [],
   "source": [
    "from rdkit.Chem import rdmolops"
   ]
  },
  {
   "cell_type": "code",
   "execution_count": null,
   "metadata": {},
   "outputs": [],
   "source": [
    "import rdkit.rdmolops.MolzipParams"
   ]
  },
  {
   "cell_type": "code",
   "execution_count": null,
   "metadata": {},
   "outputs": [],
   "source": [
    "rdmolops.AromaticityModel.AROMATICITY_DEFAULT"
   ]
  },
  {
   "cell_type": "code",
   "execution_count": null,
   "metadata": {},
   "outputs": [],
   "source": [
    "import rdkit.Chem.rdmolops\n"
   ]
  },
  {
   "cell_type": "code",
   "execution_count": null,
   "metadata": {},
   "outputs": [],
   "source": [
    "DEFAULTS = {}\n",
    "\n",
    "for d in defaults:\n",
    "    if d == None: continue\n",
    "    if d[0] + d[-1] == \"''\":\n",
    "        DEFAULTS[d] = d[1:-1]\n",
    "        continue\n",
    "    try:\n",
    "        DEFAULTS[d] = eval(d)\n",
    "    except SyntaxError:\n",
    "        print(d)"
   ]
  },
  {
   "cell_type": "code",
   "execution_count": null,
   "metadata": {},
   "outputs": [],
   "source": [
    "TYPES = \n",
    "\n",
    "for d in types:\n",
    "    print(d)"
   ]
  },
  {
   "cell_type": "code",
   "execution_count": null,
   "metadata": {},
   "outputs": [],
   "source": [
    "import rdkit.Chem.rdmolfiles\n",
    "rdkit.Chem.rdmolfiles.MolFromSmiles"
   ]
  },
  {
   "cell_type": "code",
   "execution_count": null,
   "metadata": {},
   "outputs": [],
   "source": [
    "rdkit.Chem.AtomMonomerType"
   ]
  },
  {
   "cell_type": "code",
   "execution_count": null,
   "metadata": {},
   "outputs": [],
   "source": [
    "rdkit.Chem.rdmolfiles.MolFromSmiles.__anotations__"
   ]
  },
  {
   "cell_type": "code",
   "execution_count": null,
   "metadata": {},
   "outputs": [],
   "source": [
    "print(rdkit.Chem.MolFromSmiles.__anotations__)"
   ]
  },
  {
   "cell_type": "code",
   "execution_count": null,
   "metadata": {},
   "outputs": [],
   "source": [
    "getattr(rdkit.Chem.rdmolfiles.MolFromSmiles, \"__text_signature__\")"
   ]
  },
  {
   "cell_type": "code",
   "execution_count": null,
   "metadata": {},
   "outputs": [],
   "source": [
    "rdkit.Chem.rdmolfiles.MolFromSmiles"
   ]
  },
  {
   "cell_type": "code",
   "execution_count": null,
   "metadata": {},
   "outputs": [],
   "source": [
    "rdkit.Chem.MolFromRDKitSVG"
   ]
  },
  {
   "cell_type": "code",
   "execution_count": null,
   "metadata": {},
   "outputs": [],
   "source": [
    "import inspect\n",
    "inspect.isbuiltin(rdkit.Chem.MolFromRDKitSVG)"
   ]
  },
  {
   "cell_type": "code",
   "execution_count": null,
   "metadata": {},
   "outputs": [],
   "source": [
    "dict.__signature__ =\"\""
   ]
  },
  {
   "cell_type": "code",
   "execution_count": null,
   "metadata": {},
   "outputs": [],
   "source": [
    "class C(rdkit.Chem.Mol): pass"
   ]
  },
  {
   "cell_type": "code",
   "execution_count": null,
   "metadata": {},
   "outputs": [],
   "source": [
    "C()"
   ]
  },
  {
   "cell_type": "code",
   "execution_count": null,
   "metadata": {},
   "outputs": [],
   "source": [
    "import numpy as np\n",
    "\n",
    "R = np.random.rand(10,3)\n",
    "\n",
    "import simplejson as json\n",
    "\n",
    "json.encoder.FLOAT_REPR = lambda o: format(o, '.1f')\n",
    "json.encoder.c_make_encoder = None\n",
    "\n",
    "\n",
    "\n",
    "json.dumps(R.tolist())\n"
   ]
  },
  {
   "cell_type": "code",
   "execution_count": null,
   "metadata": {},
   "outputs": [],
   "source": []
  },
  {
   "cell_type": "code",
   "execution_count": null,
   "metadata": {},
   "outputs": [],
   "source": [
    "import json"
   ]
  },
  {
   "cell_type": "code",
   "execution_count": null,
   "metadata": {},
   "outputs": [],
   "source": [
    "json.encoder.JSONEncoder."
   ]
  }
 ],
 "metadata": {
  "kernelspec": {
   "display_name": "Python 3.9.13 ('python-3.9.13': venv)",
   "language": "python",
   "name": "python3"
  },
  "language_info": {
   "codemirror_mode": {
    "name": "ipython",
    "version": 3
   },
   "file_extension": ".py",
   "mimetype": "text/x-python",
   "name": "python",
   "nbconvert_exporter": "python",
   "pygments_lexer": "ipython3",
   "version": "3.9.13"
  },
  "vscode": {
   "interpreter": {
    "hash": "d9c489737dff991e7ead8606383841cdd62971ca7ea725ef623f0e1814f11fa1"
   }
  }
 },
 "nbformat": 4,
 "nbformat_minor": 2
}
