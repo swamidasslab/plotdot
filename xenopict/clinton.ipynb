{
 "cells": [
  {
   "cell_type": "code",
   "execution_count": 29,
   "metadata": {},
   "outputs": [
    {
     "data": {
      "image/png": "[encoded data removed]",
      "image/svg+xml": "<?xml version=\"1.0\" ?><svg xmlns=\"http://www.w3.org/2000/svg\" xmlns:rdkit=\"http://www.rdkit.org/xml\" xmlns:xlink=\"http://www.w3.org/1999/xlink\" version=\"1.1\" baseProfile=\"full\" xml:space=\"preserve\" width=\"313.2\" height=\"236.2\" viewBox=\"25.4 9.7 313.2 236.2\"><g class=\"shading\"><g id=\"shading_u_c31ed94d86\"/></g><g class=\"mol_halo\"><g id=\"mol_halo_u_c31ed94d86\"/></g><g class=\"lines\" style=\"fill-rule:evenodd;stroke:#000000;stroke-width:2.0;stroke-opacity:1;stroke-linecap:round;stroke-linejoin:round\"><g id=\"lines_u_c31ed94d86\"><path class=\"bond-0 atom-0 atom-1\" d=\"M 112.1,39.7 L 111.2,69.7\"/><path class=\"bond-1 atom-1 atom-2\" d=\"M 111.2,69.7 L 136.7,85.5\"/><path class=\"bond-2 atom-2 atom-3\" d=\"M 136.7,85.5 L 135.7,115.5\"/><path class=\"bond-3 atom-3 atom-4\" d=\"M 137.1,118.1 L 115.6,129.7\"/><path class=\"bond-3 atom-3 atom-4\" d=\"M 134.3,112.8 L 112.7,124.4\"/><path class=\"bond-4 atom-3 atom-5\" d=\"M 135.7,115.5 L 156.3,128.3\"/><path class=\"bond-5 atom-5 atom-6\" d=\"M 161.0,136.7 L 160.2,161.3\"/><path class=\"bond-6 atom-6 atom-7\" d=\"M 160.2,161.3 L 133.8,175.4\"/><path class=\"bond-7 atom-7 atom-8\" d=\"M 133.8,175.4 L 112.5,162.2\"/><path class=\"bond-8 atom-8 atom-9\" d=\"M 104.1,161.9 L 81.8,173.8\"/><path class=\"bond-9 atom-9 atom-10\" d=\"M 81.8,173.8 L 67.7,147.3\"/><path class=\"bond-10 atom-9 atom-11\" d=\"M 81.8,173.8 L 96.0,200.2\"/><path class=\"bond-11 atom-9 atom-12\" d=\"M 81.8,173.8 L 55.4,187.9\"/><path class=\"bond-12 atom-6 atom-13\" d=\"M 160.2,161.3 L 185.7,177.1\"/><path class=\"bond-13 atom-13 atom-14\" d=\"M 185.7,177.1 L 207.3,165.6\"/><path class=\"bond-14 atom-14 atom-15\" d=\"M 217.1,166.0 L 237.7,178.8\"/><path class=\"bond-15 atom-15 atom-16\" d=\"M 237.7,178.8 L 239.5,203.4\"/><path class=\"bond-15 atom-15 atom-16\" d=\"M 243.9,182.0 L 245.2,199.3\"/><path class=\"bond-16 atom-16 atom-17\" d=\"M 244.0,209.7 L 265.2,214.9\"/><path class=\"bond-17 atom-17 atom-18\" d=\"M 272.2,210.6 L 281.5,195.6\"/><path class=\"bond-18 atom-18 atom-19\" d=\"M 280.6,185.4 L 265.4,167.4\"/><path class=\"bond-18 atom-18 atom-19\" d=\"M 273.7,186.6 L 263.1,174.0\"/><path class=\"bond-19 atom-19 atom-20\" d=\"M 265.4,167.4 L 271.3,143.6\"/><path class=\"bond-20 atom-20 atom-21\" d=\"M 276.8,137.1 L 301.4,130.0\"/><path class=\"bond-21 atom-21 atom-22\" d=\"M 301.4,130.0 L 308.6,100.8\"/><path class=\"bond-22 atom-22 atom-23\" d=\"M 308.6,100.8 L 291.8,84.8\"/><path class=\"bond-23 atom-23 atom-24\" d=\"M 282.1,81.5 L 258.1,88.4\"/><path class=\"bond-24 atom-24 atom-25\" d=\"M 258.1,88.4 L 251.0,117.5\"/><path class=\"bond-25 atom-19 atom-15\" d=\"M 265.4,167.4 L 237.7,178.8\"/><path class=\"bond-26 atom-25 atom-20\" d=\"M 251.0,117.5 L 268.4,134.3\"/></g></g><g class=\"text\"><g id=\"text_u_c31ed94d86\"><path class=\"atom-4\" d=\"M 105.4 129.7 Q 105.4 127.6, 106.4 126.5 Q 107.4 125.3, 109.3 125.3 Q 111.1 125.3, 112.1 126.5 Q 113.2 127.6, 113.2 129.7 Q 113.2 131.7, 112.1 132.9 Q 111.1 134.1, 109.3 134.1 Q 107.4 134.1, 106.4 132.9 Q 105.4 131.7, 105.4 129.7 M 109.3 133.1 Q 110.6 133.1, 111.2 132.2 Q 112.0 131.4, 112.0 129.7 Q 112.0 128.0, 111.2 127.1 Q 110.6 126.3, 109.3 126.3 Q 108.0 126.3, 107.3 127.1 Q 106.6 128.0, 106.6 129.7 Q 106.6 131.4, 107.3 132.2 Q 108.0 133.1, 109.3 133.1 \"/><path class=\"atom-5\" d=\"M 157.3 131.3 Q 157.3 129.3, 158.3 128.1 Q 159.3 127.0, 161.2 127.0 Q 163.1 127.0, 164.1 128.1 Q 165.1 129.3, 165.1 131.3 Q 165.1 133.4, 164.1 134.6 Q 163.1 135.7, 161.2 135.7 Q 159.3 135.7, 158.3 134.6 Q 157.3 133.4, 157.3 131.3 M 161.2 134.8 Q 162.5 134.8, 163.2 133.9 Q 163.9 133.0, 163.9 131.3 Q 163.9 129.6, 163.2 128.8 Q 162.5 128.0, 161.2 128.0 Q 159.9 128.0, 159.2 128.8 Q 158.5 129.6, 158.5 131.3 Q 158.5 133.0, 159.2 133.9 Q 159.9 134.8, 161.2 134.8 \"/><path class=\"atom-8\" d=\"M 106.4 155.4 L 109.2 159.9 Q 109.5 160.3, 109.9 161.1 Q 110.4 161.9, 110.4 162.0 L 110.4 155.4 L 111.5 155.4 L 111.5 163.9 L 110.4 163.9 L 107.4 158.9 Q 107.0 158.4, 106.6 157.7 Q 106.3 157.0, 106.2 156.8 L 106.2 163.9 L 105.1 163.9 L 105.1 155.4 L 106.4 155.4 \"/><path class=\"atom-8\" d=\"M 105.0 146.0 L 106.1 146.0 L 106.1 149.6 L 110.5 149.6 L 110.5 146.0 L 111.6 146.0 L 111.6 154.5 L 110.5 154.5 L 110.5 150.6 L 106.1 150.6 L 106.1 154.5 L 105.0 154.5 L 105.0 146.0 \"/><path class=\"atom-14\" d=\"M 208.3 163.0 Q 208.3 160.9, 209.3 159.8 Q 210.3 158.6, 212.2 158.6 Q 214.1 158.6, 215.1 159.8 Q 216.1 160.9, 216.1 163.0 Q 216.1 165.0, 215.0 166.2 Q 214.0 167.4, 212.2 167.4 Q 210.3 167.4, 209.3 166.2 Q 208.3 165.0, 208.3 163.0 M 212.2 166.4 Q 213.5 166.4, 214.2 165.5 Q 214.9 164.7, 214.9 163.0 Q 214.9 161.3, 214.2 160.5 Q 213.5 159.6, 212.2 159.6 Q 210.9 159.6, 210.2 160.4 Q 209.5 161.3, 209.5 163.0 Q 209.5 164.7, 210.2 165.5 Q 210.9 166.4, 212.2 166.4 \"/><path class=\"atom-16\" d=\"M 238.0 204.4 L 240.7 208.9 Q 241.0 209.4, 241.5 210.2 Q 241.9 211.0, 241.9 211.0 L 241.9 204.4 L 243.1 204.4 L 243.1 212.9 L 241.9 212.9 L 238.9 208.0 Q 238.6 207.4, 238.2 206.8 Q 237.8 206.1, 237.7 205.9 L 237.7 212.9 L 236.6 212.9 L 236.6 204.4 L 238.0 204.4 \"/><path class=\"atom-17\" d=\"M 266.6 218.8 Q 266.7 218.8, 267.1 219.0 Q 267.5 219.1, 267.9 219.3 Q 268.3 219.4, 268.8 219.4 Q 269.6 219.4, 270.0 219.0 Q 270.5 218.6, 270.5 217.9 Q 270.5 217.4, 270.3 217.1 Q 270.0 216.8, 269.7 216.7 Q 269.3 216.5, 268.7 216.4 Q 268.0 216.1, 267.5 215.9 Q 267.1 215.7, 266.7 215.2 Q 266.4 214.8, 266.4 214.0 Q 266.4 212.9, 267.1 212.3 Q 267.9 211.6, 269.3 211.6 Q 270.3 211.6, 271.4 212.1 L 271.1 213.0 Q 270.1 212.6, 269.3 212.6 Q 268.5 212.6, 268.1 212.9 Q 267.6 213.3, 267.6 213.9 Q 267.6 214.3, 267.8 214.6 Q 268.1 214.9, 268.4 215.0 Q 268.8 215.2, 269.3 215.4 Q 270.1 215.6, 270.6 215.8 Q 271.0 216.1, 271.4 216.6 Q 271.7 217.1, 271.7 217.9 Q 271.7 219.1, 270.9 219.7 Q 270.1 220.3, 268.8 220.3 Q 268.1 220.3, 267.5 220.2 Q 266.9 220.0, 266.2 219.7 L 266.6 218.8 \"/><path class=\"atom-18\" d=\"M 282.9 186.1 L 285.7 190.6 Q 286.0 191.1, 286.4 191.9 Q 286.9 192.7, 286.9 192.7 L 286.9 186.1 L 288.0 186.1 L 288.0 194.6 L 286.8 194.6 L 283.9 189.7 Q 283.5 189.1, 283.1 188.5 Q 282.8 187.8, 282.7 187.6 L 282.7 194.6 L 281.6 194.6 L 281.6 186.1 L 282.9 186.1 \"/><path class=\"atom-20\" d=\"M 270.7 134.1 L 273.5 138.6 Q 273.8 139.0, 274.2 139.8 Q 274.7 140.6, 274.7 140.7 L 274.7 134.1 L 275.8 134.1 L 275.8 142.6 L 274.7 142.6 L 271.7 137.6 Q 271.3 137.1, 271.0 136.4 Q 270.6 135.8, 270.5 135.5 L 270.5 142.6 L 269.4 142.6 L 269.4 134.1 L 270.7 134.1 \"/><path class=\"atom-23\" d=\"M 283.1 80.1 Q 283.1 78.0, 284.1 76.9 Q 285.1 75.8, 287.0 75.8 Q 288.8 75.8, 289.9 76.9 Q 290.9 78.0, 290.9 80.1 Q 290.9 82.1, 289.8 83.3 Q 288.8 84.5, 287.0 84.5 Q 285.1 84.5, 284.1 83.3 Q 283.1 82.2, 283.1 80.1 M 287.0 83.5 Q 288.3 83.5, 289.0 82.7 Q 289.7 81.8, 289.7 80.1 Q 289.7 78.4, 289.0 77.6 Q 288.3 76.7, 287.0 76.7 Q 285.7 76.7, 285.0 77.6 Q 284.3 78.4, 284.3 80.1 Q 284.3 81.8, 285.0 82.7 Q 285.7 83.5, 287.0 83.5 \"/></g></g><g class=\"overlay\"><g id=\"overlay_u_c31ed94d86\"/><use href=\"#mark_u_c31ed94d86\" class=\"halo\" stroke=\"#555\" opacity=\"0.45\" style=\"fill:none;stroke-width:4.0\"/><g class=\"mark\" stroke=\"white\" style=\"fill:none;stroke-width:2.0;opacity:0.7\"><g id=\"mark_u_c31ed94d86\"><circle r=\"20.0\" cx=\"284.8\" cy=\"190.4\" class=\"atom-18\"/><circle r=\"20.0\" cx=\"269.0\" cy=\"215.9\" class=\"atom-17\"/><circle r=\"20.0\" cx=\"239.8\" cy=\"208.7\" class=\"atom-16\"/><circle r=\"20.0\" cx=\"237.7\" cy=\"178.8\" class=\"atom-15\"/><circle r=\"20.0\" cx=\"212.2\" cy=\"162.9\" class=\"atom-14\"/><circle r=\"20.0\" cx=\"185.7\" cy=\"177.1\" class=\"atom-13\"/><circle r=\"20.0\" cx=\"160.2\" cy=\"161.3\" class=\"atom-6\"/><circle r=\"20.0\" cx=\"161.2\" cy=\"131.3\" class=\"atom-5\"/></g></g></g><script type=\"application/json\">{&quot;coords&quot;: [[112.1, 39.7], [111.2, 69.7], [136.7, 85.5], [135.7, 115.5], [109.3, 129.6], [161.2, 131.3], [160.2, 161.3], [133.8, 175.4], [108.3, 159.6], [81.8, 173.8], [67.7, 147.3], [96.0, 200.2], [55.4, 187.9], [185.7, 177.1], [212.2, 162.9], [237.7, 178.8], [239.8, 208.7], [269.0, 215.9], [284.8, 190.4], [265.4, 167.4], [272.6, 138.3], [301.4, 130.0], [308.6, 100.8], [287.0, 80.1], [258.1, 88.4], [251.0, 117.5]], &quot;scale&quot;: 20}</script></svg>",
      "text/plain": [
       "<xenopict.Xenopict at 0x125ae40d0>"
      ]
     },
     "execution_count": 29,
     "metadata": {},
     "output_type": "execute_result"
    }
   ],
   "source": [
    "\n",
    "from xenopict import Xenopict, magic\n",
    "\n",
    "mol = 'CCCC(=O)OC(CNC(C)(C)C)COc1nsnc1N1CCOCC1'\n",
    "sub = \"nsncOCCO\"\n",
    "idx = [18, 17, 16, 15, 14, 13, 6, 5]\n",
    "idx_new = [17, 16, 15, 19, 20, 21, 22, 23, 24, 25]\n",
    "\n",
    "svg1 = Xenopict(mol).mark_atoms(idx)\n",
    "svg2 = Xenopict(mol).mark_atoms(idx_new)\n",
    "\n",
    "svg1"
   ]
  },
  {
   "cell_type": "code",
   "execution_count": 28,
   "metadata": {},
   "outputs": [
    {
     "data": {
      "text/plain": [
       "(<xenopict.Xenopict at 0x12592a3a0>, <xenopict.Xenopict at 0x10fe9b430>)"
      ]
     },
     "execution_count": 28,
     "metadata": {},
     "output_type": "execute_result"
    }
   ],
   "source": [
    "\n",
    "from xenopict import Xenopict, magic\n",
    "\n",
    "mol = 'CC(OCCC)CCC'\n",
    "idx = [1,2,3,4]\n",
    "idx_new = [5,6,7]\n",
    "\n",
    "svg1 = Xenopict(mol).mark_atoms(idx)\n",
    "svg2 = Xenopict(mol).mark_atoms(idx_new)\n",
    "\n",
    "svg1.halo()\n",
    "svg2.halo()\n",
    "from IPython.display import HTML, SVG\n",
    "svg1, svg2"
   ]
  },
  {
   "cell_type": "code",
   "execution_count": 31,
   "metadata": {},
   "outputs": [
    {
     "data": {
      "image/svg+xml": "<?xml version=\"1.0\" ?><svg xmlns=\"http://www.w3.org/2000/svg\" xmlns:rdkit=\"http://www.rdkit.org/xml\" xmlns:xlink=\"http://www.w3.org/1999/xlink\" version=\"1.1\" baseProfile=\"full\" xml:space=\"preserve\" width=\"313.2\" height=\"236.2\" viewBox=\"25.4 9.7 313.2 236.2\"><g class=\"shading\"><g id=\"shading\"/></g><g class=\"mol_halo\"><g id=\"mol_halo\"/></g><g class=\"lines\" style=\"fill-rule:evenodd;stroke:#000000;stroke-width:2.0;stroke-opacity:1;stroke-linecap:round;stroke-linejoin:round\"><g id=\"lines\"><path class=\"bond-0 atom-0 atom-1\" d=\"M 112.1,39.7 L 111.2,69.7\"/><path class=\"bond-1 atom-1 atom-2\" d=\"M 111.2,69.7 L 136.7,85.5\"/><path class=\"bond-2 atom-2 atom-3\" d=\"M 136.7,85.5 L 135.7,115.5\"/><path class=\"bond-3 atom-3 atom-4\" d=\"M 137.1,118.1 L 115.6,129.7\"/><path class=\"bond-3 atom-3 atom-4\" d=\"M 134.3,112.8 L 112.7,124.4\"/><path class=\"bond-4 atom-3 atom-5\" d=\"M 135.7,115.5 L 156.3,128.3\"/><path class=\"bond-5 atom-5 atom-6\" d=\"M 161.0,136.7 L 160.2,161.3\"/><path class=\"bond-6 atom-6 atom-7\" d=\"M 160.2,161.3 L 133.8,175.4\"/><path class=\"bond-7 atom-7 atom-8\" d=\"M 133.8,175.4 L 112.5,162.2\"/><path class=\"bond-8 atom-8 atom-9\" d=\"M 104.1,161.9 L 81.8,173.8\"/><path class=\"bond-9 atom-9 atom-10\" d=\"M 81.8,173.8 L 67.7,147.3\"/><path class=\"bond-10 atom-9 atom-11\" d=\"M 81.8,173.8 L 96.0,200.2\"/><path class=\"bond-11 atom-9 atom-12\" d=\"M 81.8,173.8 L 55.4,187.9\"/><path class=\"bond-12 atom-6 atom-13\" d=\"M 160.2,161.3 L 185.7,177.1\"/><path class=\"bond-13 atom-13 atom-14\" d=\"M 185.7,177.1 L 207.3,165.6\"/><path class=\"bond-14 atom-14 atom-15\" d=\"M 217.1,166.0 L 237.7,178.8\"/><path class=\"bond-15 atom-15 atom-16\" d=\"M 237.7,178.8 L 239.5,203.4\"/><path class=\"bond-15 atom-15 atom-16\" d=\"M 243.9,182.0 L 245.2,199.3\"/><path class=\"bond-16 atom-16 atom-17\" d=\"M 244.0,209.7 L 265.2,214.9\"/><path class=\"bond-17 atom-17 atom-18\" d=\"M 272.2,210.6 L 281.5,195.6\"/><path class=\"bond-18 atom-18 atom-19\" d=\"M 280.6,185.4 L 265.4,167.4\"/><path class=\"bond-18 atom-18 atom-19\" d=\"M 273.7,186.6 L 263.1,174.0\"/><path class=\"bond-19 atom-19 atom-20\" d=\"M 265.4,167.4 L 271.3,143.6\"/><path class=\"bond-20 atom-20 atom-21\" d=\"M 276.8,137.1 L 301.4,130.0\"/><path class=\"bond-21 atom-21 atom-22\" d=\"M 301.4,130.0 L 308.6,100.8\"/><path class=\"bond-22 atom-22 atom-23\" d=\"M 308.6,100.8 L 291.8,84.8\"/><path class=\"bond-23 atom-23 atom-24\" d=\"M 282.1,81.5 L 258.1,88.4\"/><path class=\"bond-24 atom-24 atom-25\" d=\"M 258.1,88.4 L 251.0,117.5\"/><path class=\"bond-25 atom-19 atom-15\" d=\"M 265.4,167.4 L 237.7,178.8\"/><path class=\"bond-26 atom-25 atom-20\" d=\"M 251.0,117.5 L 268.4,134.3\"/></g></g><g class=\"text\"><g id=\"text\"><path class=\"atom-4\" d=\"M 105.4 129.7 Q 105.4 127.6, 106.4 126.5 Q 107.4 125.3, 109.3 125.3 Q 111.1 125.3, 112.1 126.5 Q 113.2 127.6, 113.2 129.7 Q 113.2 131.7, 112.1 132.9 Q 111.1 134.1, 109.3 134.1 Q 107.4 134.1, 106.4 132.9 Q 105.4 131.7, 105.4 129.7 M 109.3 133.1 Q 110.6 133.1, 111.2 132.2 Q 112.0 131.4, 112.0 129.7 Q 112.0 128.0, 111.2 127.1 Q 110.6 126.3, 109.3 126.3 Q 108.0 126.3, 107.3 127.1 Q 106.6 128.0, 106.6 129.7 Q 106.6 131.4, 107.3 132.2 Q 108.0 133.1, 109.3 133.1 \"/><path class=\"atom-5\" d=\"M 157.3 131.3 Q 157.3 129.3, 158.3 128.1 Q 159.3 127.0, 161.2 127.0 Q 163.1 127.0, 164.1 128.1 Q 165.1 129.3, 165.1 131.3 Q 165.1 133.4, 164.1 134.6 Q 163.1 135.7, 161.2 135.7 Q 159.3 135.7, 158.3 134.6 Q 157.3 133.4, 157.3 131.3 M 161.2 134.8 Q 162.5 134.8, 163.2 133.9 Q 163.9 133.0, 163.9 131.3 Q 163.9 129.6, 163.2 128.8 Q 162.5 128.0, 161.2 128.0 Q 159.9 128.0, 159.2 128.8 Q 158.5 129.6, 158.5 131.3 Q 158.5 133.0, 159.2 133.9 Q 159.9 134.8, 161.2 134.8 \"/><path class=\"atom-8\" d=\"M 106.4 155.4 L 109.2 159.9 Q 109.5 160.3, 109.9 161.1 Q 110.4 161.9, 110.4 162.0 L 110.4 155.4 L 111.5 155.4 L 111.5 163.9 L 110.4 163.9 L 107.4 158.9 Q 107.0 158.4, 106.6 157.7 Q 106.3 157.0, 106.2 156.8 L 106.2 163.9 L 105.1 163.9 L 105.1 155.4 L 106.4 155.4 \"/><path class=\"atom-8\" d=\"M 105.0 146.0 L 106.1 146.0 L 106.1 149.6 L 110.5 149.6 L 110.5 146.0 L 111.6 146.0 L 111.6 154.5 L 110.5 154.5 L 110.5 150.6 L 106.1 150.6 L 106.1 154.5 L 105.0 154.5 L 105.0 146.0 \"/><path class=\"atom-14\" d=\"M 208.3 163.0 Q 208.3 160.9, 209.3 159.8 Q 210.3 158.6, 212.2 158.6 Q 214.1 158.6, 215.1 159.8 Q 216.1 160.9, 216.1 163.0 Q 216.1 165.0, 215.0 166.2 Q 214.0 167.4, 212.2 167.4 Q 210.3 167.4, 209.3 166.2 Q 208.3 165.0, 208.3 163.0 M 212.2 166.4 Q 213.5 166.4, 214.2 165.5 Q 214.9 164.7, 214.9 163.0 Q 214.9 161.3, 214.2 160.5 Q 213.5 159.6, 212.2 159.6 Q 210.9 159.6, 210.2 160.4 Q 209.5 161.3, 209.5 163.0 Q 209.5 164.7, 210.2 165.5 Q 210.9 166.4, 212.2 166.4 \"/><path class=\"atom-16\" d=\"M 238.0 204.4 L 240.7 208.9 Q 241.0 209.4, 241.5 210.2 Q 241.9 211.0, 241.9 211.0 L 241.9 204.4 L 243.1 204.4 L 243.1 212.9 L 241.9 212.9 L 238.9 208.0 Q 238.6 207.4, 238.2 206.8 Q 237.8 206.1, 237.7 205.9 L 237.7 212.9 L 236.6 212.9 L 236.6 204.4 L 238.0 204.4 \"/><path class=\"atom-17\" d=\"M 266.6 218.8 Q 266.7 218.8, 267.1 219.0 Q 267.5 219.1, 267.9 219.3 Q 268.3 219.4, 268.8 219.4 Q 269.6 219.4, 270.0 219.0 Q 270.5 218.6, 270.5 217.9 Q 270.5 217.4, 270.3 217.1 Q 270.0 216.8, 269.7 216.7 Q 269.3 216.5, 268.7 216.4 Q 268.0 216.1, 267.5 215.9 Q 267.1 215.7, 266.7 215.2 Q 266.4 214.8, 266.4 214.0 Q 266.4 212.9, 267.1 212.3 Q 267.9 211.6, 269.3 211.6 Q 270.3 211.6, 271.4 212.1 L 271.1 213.0 Q 270.1 212.6, 269.3 212.6 Q 268.5 212.6, 268.1 212.9 Q 267.6 213.3, 267.6 213.9 Q 267.6 214.3, 267.8 214.6 Q 268.1 214.9, 268.4 215.0 Q 268.8 215.2, 269.3 215.4 Q 270.1 215.6, 270.6 215.8 Q 271.0 216.1, 271.4 216.6 Q 271.7 217.1, 271.7 217.9 Q 271.7 219.1, 270.9 219.7 Q 270.1 220.3, 268.8 220.3 Q 268.1 220.3, 267.5 220.2 Q 266.9 220.0, 266.2 219.7 L 266.6 218.8 \"/><path class=\"atom-18\" d=\"M 282.9 186.1 L 285.7 190.6 Q 286.0 191.1, 286.4 191.9 Q 286.9 192.7, 286.9 192.7 L 286.9 186.1 L 288.0 186.1 L 288.0 194.6 L 286.8 194.6 L 283.9 189.7 Q 283.5 189.1, 283.1 188.5 Q 282.8 187.8, 282.7 187.6 L 282.7 194.6 L 281.6 194.6 L 281.6 186.1 L 282.9 186.1 \"/><path class=\"atom-20\" d=\"M 270.7 134.1 L 273.5 138.6 Q 273.8 139.0, 274.2 139.8 Q 274.7 140.6, 274.7 140.7 L 274.7 134.1 L 275.8 134.1 L 275.8 142.6 L 274.7 142.6 L 271.7 137.6 Q 271.3 137.1, 271.0 136.4 Q 270.6 135.8, 270.5 135.5 L 270.5 142.6 L 269.4 142.6 L 269.4 134.1 L 270.7 134.1 \"/><path class=\"atom-23\" d=\"M 283.1 80.1 Q 283.1 78.0, 284.1 76.9 Q 285.1 75.8, 287.0 75.8 Q 288.8 75.8, 289.9 76.9 Q 290.9 78.0, 290.9 80.1 Q 290.9 82.1, 289.8 83.3 Q 288.8 84.5, 287.0 84.5 Q 285.1 84.5, 284.1 83.3 Q 283.1 82.2, 283.1 80.1 M 287.0 83.5 Q 288.3 83.5, 289.0 82.7 Q 289.7 81.8, 289.7 80.1 Q 289.7 78.4, 289.0 77.6 Q 288.3 76.7, 287.0 76.7 Q 285.7 76.7, 285.0 77.6 Q 284.3 78.4, 284.3 80.1 Q 284.3 81.8, 285.0 82.7 Q 285.7 83.5, 287.0 83.5 \"/></g></g><g class=\"overlay\"><g id=\"overlay\"/><use href=\"#mark\" class=\"halo\" stroke=\"#555\" opacity=\"0.45\" style=\"fill:none;stroke-width:4.0\"/><g class=\"mark\" stroke=\"white\" style=\"fill:none;stroke-width:2.0;opacity:0.7\"><g id=\"mark\"><circle r=\"20.0\" cx=\"269.0\" cy=\"215.9\" class=\"atom-17\"/><circle r=\"20.0\" cx=\"239.8\" cy=\"208.7\" class=\"atom-16\"/><circle r=\"20.0\" cx=\"237.7\" cy=\"178.8\" class=\"atom-15\"/><circle r=\"20.0\" cx=\"265.4\" cy=\"167.4\" class=\"atom-19\"/><circle r=\"20.0\" cx=\"272.6\" cy=\"138.3\" class=\"atom-20\"/><circle r=\"20.0\" cx=\"301.4\" cy=\"130.0\" class=\"atom-21\"/><circle r=\"20.0\" cx=\"308.6\" cy=\"100.8\" class=\"atom-22\"/><circle r=\"20.0\" cx=\"287.0\" cy=\"80.1\" class=\"atom-23\"/><circle r=\"20.0\" cx=\"258.1\" cy=\"88.4\" class=\"atom-24\"/><circle r=\"20.0\" cx=\"251.0\" cy=\"117.5\" class=\"atom-25\"/></g></g></g><script type=\"application/json\">{&quot;coords&quot;: [[112.1, 39.7], [111.2, 69.7], [136.7, 85.5], [135.7, 115.5], [109.3, 129.6], [161.2, 131.3], [160.2, 161.3], [133.8, 175.4], [108.3, 159.6], [81.8, 173.8], [67.7, 147.3], [96.0, 200.2], [55.4, 187.9], [185.7, 177.1], [212.2, 162.9], [237.7, 178.8], [239.8, 208.7], [269.0, 215.9], [284.8, 190.4], [265.4, 167.4], [272.6, 138.3], [301.4, 130.0], [308.6, 100.8], [287.0, 80.1], [258.1, 88.4], [251.0, 117.5]], &quot;scale&quot;: 20}</script></svg>",
      "text/plain": [
       "<xml.dom.minidom.Document at 0x12669dd00>"
      ]
     },
     "execution_count": 31,
     "metadata": {},
     "output_type": "execute_result"
    }
   ],
   "source": [
    "svg1.svgdom.firstChild.removeAttribute(\"xmlns:rdkit\")\n",
    "svg2.svgdom"
   ]
  },
  {
   "cell_type": "code",
   "execution_count": 35,
   "metadata": {},
   "outputs": [
    {
     "data": {
      "image/svg+xml": "<?xml version=\"1.0\" ?><svg xmlns=\"http://www.w3.org/2000/svg\" xmlns:xlink=\"http://www.w3.org/1999/xlink\" version=\"1.1\" baseProfile=\"full\" xml:space=\"preserve\" width=\"313.2\" height=\"236.2\" viewBox=\"25.4 9.7 313.2 236.2\"><g class=\"shading\"><g id=\"shading\"/></g><g class=\"mol_halo\"><g id=\"mol_halo\"/></g><g class=\"lines\" style=\"fill-rule:evenodd;stroke:#000000;stroke-width:2.0;stroke-opacity:1;stroke-linecap:round;stroke-linejoin:round\"><g id=\"lines\"><path class=\"bond-0 atom-0 atom-1\" d=\"M 112.1,39.7 L 111.2,69.7\"/><path class=\"bond-1 atom-1 atom-2\" d=\"M 111.2,69.7 L 136.7,85.5\"/><path class=\"bond-2 atom-2 atom-3\" d=\"M 136.7,85.5 L 135.7,115.5\"/><path class=\"bond-3 atom-3 atom-4\" d=\"M 137.1,118.1 L 115.6,129.7\"/><path class=\"bond-3 atom-3 atom-4\" d=\"M 134.3,112.8 L 112.7,124.4\"/><path class=\"bond-4 atom-3 atom-5\" d=\"M 135.7,115.5 L 156.3,128.3\"/><path class=\"bond-5 atom-5 atom-6\" d=\"M 161.0,136.7 L 160.2,161.3\"/><path class=\"bond-6 atom-6 atom-7\" d=\"M 160.2,161.3 L 133.8,175.4\"/><path class=\"bond-7 atom-7 atom-8\" d=\"M 133.8,175.4 L 112.5,162.2\"/><path class=\"bond-8 atom-8 atom-9\" d=\"M 104.1,161.9 L 81.8,173.8\"/><path class=\"bond-9 atom-9 atom-10\" d=\"M 81.8,173.8 L 67.7,147.3\"/><path class=\"bond-10 atom-9 atom-11\" d=\"M 81.8,173.8 L 96.0,200.2\"/><path class=\"bond-11 atom-9 atom-12\" d=\"M 81.8,173.8 L 55.4,187.9\"/><path class=\"bond-12 atom-6 atom-13\" d=\"M 160.2,161.3 L 185.7,177.1\"/><path class=\"bond-13 atom-13 atom-14\" d=\"M 185.7,177.1 L 207.3,165.6\"/><path class=\"bond-14 atom-14 atom-15\" d=\"M 217.1,166.0 L 237.7,178.8\"/><path class=\"bond-15 atom-15 atom-16\" d=\"M 237.7,178.8 L 239.5,203.4\"/><path class=\"bond-15 atom-15 atom-16\" d=\"M 243.9,182.0 L 245.2,199.3\"/><path class=\"bond-16 atom-16 atom-17\" d=\"M 244.0,209.7 L 265.2,214.9\"/><path class=\"bond-17 atom-17 atom-18\" d=\"M 272.2,210.6 L 281.5,195.6\"/><path class=\"bond-18 atom-18 atom-19\" d=\"M 280.6,185.4 L 265.4,167.4\"/><path class=\"bond-18 atom-18 atom-19\" d=\"M 273.7,186.6 L 263.1,174.0\"/><path class=\"bond-19 atom-19 atom-20\" d=\"M 265.4,167.4 L 271.3,143.6\"/><path class=\"bond-20 atom-20 atom-21\" d=\"M 276.8,137.1 L 301.4,130.0\"/><path class=\"bond-21 atom-21 atom-22\" d=\"M 301.4,130.0 L 308.6,100.8\"/><path class=\"bond-22 atom-22 atom-23\" d=\"M 308.6,100.8 L 291.8,84.8\"/><path class=\"bond-23 atom-23 atom-24\" d=\"M 282.1,81.5 L 258.1,88.4\"/><path class=\"bond-24 atom-24 atom-25\" d=\"M 258.1,88.4 L 251.0,117.5\"/><path class=\"bond-25 atom-19 atom-15\" d=\"M 265.4,167.4 L 237.7,178.8\"/><path class=\"bond-26 atom-25 atom-20\" d=\"M 251.0,117.5 L 268.4,134.3\"/></g></g><g class=\"text\"><g id=\"text\"><path class=\"atom-4\" d=\"M 105.4 129.7 Q 105.4 127.6, 106.4 126.5 Q 107.4 125.3, 109.3 125.3 Q 111.1 125.3, 112.1 126.5 Q 113.2 127.6, 113.2 129.7 Q 113.2 131.7, 112.1 132.9 Q 111.1 134.1, 109.3 134.1 Q 107.4 134.1, 106.4 132.9 Q 105.4 131.7, 105.4 129.7 M 109.3 133.1 Q 110.6 133.1, 111.2 132.2 Q 112.0 131.4, 112.0 129.7 Q 112.0 128.0, 111.2 127.1 Q 110.6 126.3, 109.3 126.3 Q 108.0 126.3, 107.3 127.1 Q 106.6 128.0, 106.6 129.7 Q 106.6 131.4, 107.3 132.2 Q 108.0 133.1, 109.3 133.1 \"/><path class=\"atom-5\" d=\"M 157.3 131.3 Q 157.3 129.3, 158.3 128.1 Q 159.3 127.0, 161.2 127.0 Q 163.1 127.0, 164.1 128.1 Q 165.1 129.3, 165.1 131.3 Q 165.1 133.4, 164.1 134.6 Q 163.1 135.7, 161.2 135.7 Q 159.3 135.7, 158.3 134.6 Q 157.3 133.4, 157.3 131.3 M 161.2 134.8 Q 162.5 134.8, 163.2 133.9 Q 163.9 133.0, 163.9 131.3 Q 163.9 129.6, 163.2 128.8 Q 162.5 128.0, 161.2 128.0 Q 159.9 128.0, 159.2 128.8 Q 158.5 129.6, 158.5 131.3 Q 158.5 133.0, 159.2 133.9 Q 159.9 134.8, 161.2 134.8 \"/><path class=\"atom-8\" d=\"M 106.4 155.4 L 109.2 159.9 Q 109.5 160.3, 109.9 161.1 Q 110.4 161.9, 110.4 162.0 L 110.4 155.4 L 111.5 155.4 L 111.5 163.9 L 110.4 163.9 L 107.4 158.9 Q 107.0 158.4, 106.6 157.7 Q 106.3 157.0, 106.2 156.8 L 106.2 163.9 L 105.1 163.9 L 105.1 155.4 L 106.4 155.4 \"/><path class=\"atom-8\" d=\"M 105.0 146.0 L 106.1 146.0 L 106.1 149.6 L 110.5 149.6 L 110.5 146.0 L 111.6 146.0 L 111.6 154.5 L 110.5 154.5 L 110.5 150.6 L 106.1 150.6 L 106.1 154.5 L 105.0 154.5 L 105.0 146.0 \"/><path class=\"atom-14\" d=\"M 208.3 163.0 Q 208.3 160.9, 209.3 159.8 Q 210.3 158.6, 212.2 158.6 Q 214.1 158.6, 215.1 159.8 Q 216.1 160.9, 216.1 163.0 Q 216.1 165.0, 215.0 166.2 Q 214.0 167.4, 212.2 167.4 Q 210.3 167.4, 209.3 166.2 Q 208.3 165.0, 208.3 163.0 M 212.2 166.4 Q 213.5 166.4, 214.2 165.5 Q 214.9 164.7, 214.9 163.0 Q 214.9 161.3, 214.2 160.5 Q 213.5 159.6, 212.2 159.6 Q 210.9 159.6, 210.2 160.4 Q 209.5 161.3, 209.5 163.0 Q 209.5 164.7, 210.2 165.5 Q 210.9 166.4, 212.2 166.4 \"/><path class=\"atom-16\" d=\"M 238.0 204.4 L 240.7 208.9 Q 241.0 209.4, 241.5 210.2 Q 241.9 211.0, 241.9 211.0 L 241.9 204.4 L 243.1 204.4 L 243.1 212.9 L 241.9 212.9 L 238.9 208.0 Q 238.6 207.4, 238.2 206.8 Q 237.8 206.1, 237.7 205.9 L 237.7 212.9 L 236.6 212.9 L 236.6 204.4 L 238.0 204.4 \"/><path class=\"atom-17\" d=\"M 266.6 218.8 Q 266.7 218.8, 267.1 219.0 Q 267.5 219.1, 267.9 219.3 Q 268.3 219.4, 268.8 219.4 Q 269.6 219.4, 270.0 219.0 Q 270.5 218.6, 270.5 217.9 Q 270.5 217.4, 270.3 217.1 Q 270.0 216.8, 269.7 216.7 Q 269.3 216.5, 268.7 216.4 Q 268.0 216.1, 267.5 215.9 Q 267.1 215.7, 266.7 215.2 Q 266.4 214.8, 266.4 214.0 Q 266.4 212.9, 267.1 212.3 Q 267.9 211.6, 269.3 211.6 Q 270.3 211.6, 271.4 212.1 L 271.1 213.0 Q 270.1 212.6, 269.3 212.6 Q 268.5 212.6, 268.1 212.9 Q 267.6 213.3, 267.6 213.9 Q 267.6 214.3, 267.8 214.6 Q 268.1 214.9, 268.4 215.0 Q 268.8 215.2, 269.3 215.4 Q 270.1 215.6, 270.6 215.8 Q 271.0 216.1, 271.4 216.6 Q 271.7 217.1, 271.7 217.9 Q 271.7 219.1, 270.9 219.7 Q 270.1 220.3, 268.8 220.3 Q 268.1 220.3, 267.5 220.2 Q 266.9 220.0, 266.2 219.7 L 266.6 218.8 \"/><path class=\"atom-18\" d=\"M 282.9 186.1 L 285.7 190.6 Q 286.0 191.1, 286.4 191.9 Q 286.9 192.7, 286.9 192.7 L 286.9 186.1 L 288.0 186.1 L 288.0 194.6 L 286.8 194.6 L 283.9 189.7 Q 283.5 189.1, 283.1 188.5 Q 282.8 187.8, 282.7 187.6 L 282.7 194.6 L 281.6 194.6 L 281.6 186.1 L 282.9 186.1 \"/><path class=\"atom-20\" d=\"M 270.7 134.1 L 273.5 138.6 Q 273.8 139.0, 274.2 139.8 Q 274.7 140.6, 274.7 140.7 L 274.7 134.1 L 275.8 134.1 L 275.8 142.6 L 274.7 142.6 L 271.7 137.6 Q 271.3 137.1, 271.0 136.4 Q 270.6 135.8, 270.5 135.5 L 270.5 142.6 L 269.4 142.6 L 269.4 134.1 L 270.7 134.1 \"/><path class=\"atom-23\" d=\"M 283.1 80.1 Q 283.1 78.0, 284.1 76.9 Q 285.1 75.8, 287.0 75.8 Q 288.8 75.8, 289.9 76.9 Q 290.9 78.0, 290.9 80.1 Q 290.9 82.1, 289.8 83.3 Q 288.8 84.5, 287.0 84.5 Q 285.1 84.5, 284.1 83.3 Q 283.1 82.2, 283.1 80.1 M 287.0 83.5 Q 288.3 83.5, 289.0 82.7 Q 289.7 81.8, 289.7 80.1 Q 289.7 78.4, 289.0 77.6 Q 288.3 76.7, 287.0 76.7 Q 285.7 76.7, 285.0 77.6 Q 284.3 78.4, 284.3 80.1 Q 284.3 81.8, 285.0 82.7 Q 285.7 83.5, 287.0 83.5 \"/></g></g><g class=\"overlay\"><g id=\"overlay\"/><use href=\"#mark\" class=\"halo\" stroke=\"#555\" opacity=\"0.45\" style=\"fill:none;stroke-width:4.0\"/><g class=\"mark\" stroke=\"white\" style=\"fill:none;stroke-width:2.0;opacity:0.7\"><g id=\"mark\"><circle r=\"20.0\" cx=\"284.8\" cy=\"190.4\" class=\"atom-18\"/><circle r=\"20.0\" cx=\"269.0\" cy=\"215.9\" class=\"atom-17\"/><circle r=\"20.0\" cx=\"239.8\" cy=\"208.7\" class=\"atom-16\"/><circle r=\"20.0\" cx=\"237.7\" cy=\"178.8\" class=\"atom-15\"/><circle r=\"20.0\" cx=\"212.2\" cy=\"162.9\" class=\"atom-14\"/><circle r=\"20.0\" cx=\"185.7\" cy=\"177.1\" class=\"atom-13\"/><circle r=\"20.0\" cx=\"160.2\" cy=\"161.3\" class=\"atom-6\"/><circle r=\"20.0\" cx=\"161.2\" cy=\"131.3\" class=\"atom-5\"/></g></g></g><script type=\"application/json\">{&quot;coords&quot;: [[112.1, 39.7], [111.2, 69.7], [136.7, 85.5], [135.7, 115.5], [109.3, 129.6], [161.2, 131.3], [160.2, 161.3], [133.8, 175.4], [108.3, 159.6], [81.8, 173.8], [67.7, 147.3], [96.0, 200.2], [55.4, 187.9], [185.7, 177.1], [212.2, 162.9], [237.7, 178.8], [239.8, 208.7], [269.0, 215.9], [284.8, 190.4], [265.4, 167.4], [272.6, 138.3], [301.4, 130.0], [308.6, 100.8], [287.0, 80.1], [258.1, 88.4], [251.0, 117.5]], &quot;scale&quot;: 20}</script></svg>",
      "text/plain": [
       "<xml.dom.minidom.Document at 0x1266958e0>"
      ]
     },
     "execution_count": 35,
     "metadata": {},
     "output_type": "execute_result"
    }
   ],
   "source": [
    "\n",
    "svg1.svgdom"
   ]
  },
  {
   "cell_type": "code",
   "execution_count": 50,
   "metadata": {},
   "outputs": [
    {
     "data": {
      "text/plain": [
       "[<DOM Element: use at 0x13255fca0>]"
      ]
     },
     "execution_count": 50,
     "metadata": {},
     "output_type": "execute_result"
    }
   ],
   "source": [
    "D.getElementsByTagName('use')"
   ]
  },
  {
   "cell_type": "code",
   "execution_count": 37,
   "metadata": {},
   "outputs": [],
   "source": [
    "from xml.dom.minidom import Document\n",
    "import lxml.etree"
   ]
  },
  {
   "cell_type": "code",
   "execution_count": 51,
   "metadata": {},
   "outputs": [],
   "source": [
    "import xml.dom"
   ]
  },
  {
   "cell_type": "code",
   "execution_count": 2,
   "metadata": {},
   "outputs": [
    {
     "ename": "SyntaxError",
     "evalue": "invalid syntax (1153915006.py, line 1)",
     "output_type": "error",
     "traceback": [
      "\u001b[0;36m  Cell \u001b[0;32mIn [2], line 1\u001b[0;36m\u001b[0m\n\u001b[0;31m    xml.dom.(svg1.to_svg())\u001b[0m\n\u001b[0m            ^\u001b[0m\n\u001b[0;31mSyntaxError\u001b[0m\u001b[0;31m:\u001b[0m invalid syntax\n"
     ]
    }
   ],
   "source": [
    "xml.dom.(svg1.to_svg())"
   ]
  },
  {
   "cell_type": "code",
   "execution_count": 50,
   "metadata": {},
   "outputs": [
    {
     "data": {
      "text/plain": [
       "b'<svg xmlns=\"http://www.w3.org/2000/svg\" xmlns:rdkit=\"http://www.rdkit.org/xml\" xmlns:xlink=\"http://www.w3.org/1999/xlink\" version=\"1.1\" baseProfile=\"full\" xml:space=\"preserve\" width=\"182.4\" height=\"159.9\" viewBox=\"-3.2 -8.5 182.4 159.9\"><g class=\"shading\"><g id=\"shading\"/></g><g class=\"mol_halo\" style=\"stroke:white;opacity:0.5;stroke-linecap:round;stroke-linejoin:round\"><g id=\"mol_halo\"/><use href=\"#lines\" style=\"stroke-width:4.0\"/><use href=\"#text\" style=\"stroke-width:2.0\"/></g><g class=\"lines\" style=\"fill-rule:evenodd;stroke:#000000;stroke-width:2.0;stroke-opacity:1;stroke-linecap:round;stroke-linejoin:round\"><g id=\"lines\"><path class=\"bond-0 atom-0 atom-1\" d=\"M 26.8,21.5 L 48.4,42.4\"/><path class=\"bond-1 atom-1 atom-2\" d=\"M 48.4,42.4 L 72.3,35.5\"/><path class=\"bond-2 atom-2 atom-3\" d=\"M 82.1,38.9 L 98.8,55.0\"/><path class=\"bond-3 atom-3 atom-4\" d=\"M 98.8,55.0 L 127.6,46.7\"/><path class=\"bond-4 atom-4 atom-5\" d=\"M 127.6,46.7 L 149.2,67.6\"/><path class=\"bond-5 atom-1 atom-6\" d=\"M 48.4,42.4 L 41.1,71.5\"/><path class=\"bond-6 atom-6 atom-7\" d=\"M 41.1,71.5 L 62.7,92.4\"/><path class=\"bond-7 atom-7 atom-8\" d=\"M 62.7,92.4 L 55.4,121.5\"/></g></g><g class=\"text\"><g id=\"text\"><path class=\"atom-2\" d=\"M 73.3 34.2 Q 73.3 32.1, 74.3 31.0 Q 75.3 29.8, 77.2 29.8 Q 79.1 29.8, 80.1 31.0 Q 81.1 32.1, 81.1 34.2 Q 81.1 36.2, 80.1 37.4 Q 79.1 38.6, 77.2 38.6 Q 75.3 38.6, 74.3 37.4 Q 73.3 36.2, 73.3 34.2 M 77.2 37.6 Q 78.5 37.6, 79.2 36.7 Q 79.9 35.9, 79.9 34.2 Q 79.9 32.5, 79.2 31.7 Q 78.5 30.8, 77.2 30.8 Q 75.9 30.8, 75.2 31.6 Q 74.5 32.5, 74.5 34.2 Q 74.5 35.9, 75.2 36.7 Q 75.9 37.6, 77.2 37.6 \"/></g></g><g class=\"overlay\"><g id=\"overlay\"/><use href=\"#mark\" class=\"halo\" stroke=\"#555\" opacity=\"0.45\" style=\"fill:none;stroke-width:4.0\"/><g class=\"mark\" stroke=\"white\" style=\"fill:none;stroke-width:2.0;opacity:0.7\"><g id=\"mark\"><circle r=\"20.0\" cx=\"48.4\" cy=\"42.4\" class=\"atom-1\"/><circle r=\"20.0\" cx=\"77.2\" cy=\"34.1\" class=\"atom-2\"/><circle r=\"20.0\" cx=\"98.8\" cy=\"55.0\" class=\"atom-3\"/><circle r=\"20.0\" cx=\"127.6\" cy=\"46.7\" class=\"atom-4\"/></g></g></g><script type=\"application/json\">{\"coords\": [[26.8, 21.5], [48.4, 42.4], [77.2, 34.1], [98.8, 55.0], [127.6, 46.7], [149.2, 67.6], [41.1, 71.5], [62.7, 92.4], [55.4, 121.5]], \"scale\": 20}</script></svg>'"
      ]
     },
     "execution_count": 50,
     "metadata": {},
     "output_type": "execute_result"
    }
   ],
   "source": [
    "L = lxml.etree.fromstring(c.to_svg())\n",
    "lxml.etree.tostring(L)"
   ]
  },
  {
   "cell_type": "code",
   "execution_count": 117,
   "metadata": {},
   "outputs": [
    {
     "data": {
      "text/plain": [
       "<Element {http://www.w3.org/2000/svg}g at 0x128cbc300>"
      ]
     },
     "execution_count": 117,
     "metadata": {},
     "output_type": "execute_result"
    }
   ],
   "source": [
    "L.findall('.//svg:g[@id=\"lines\"]', namespaces={\"svg\": \"http://www.w3.org/2000/svg\"})[0]"
   ]
  },
  {
   "cell_type": "code",
   "execution_count": 73,
   "metadata": {},
   "outputs": [
    {
     "data": {
      "text/plain": [
       "'{http://www.w3.org/2000/svg}svg'"
      ]
     },
     "execution_count": 73,
     "metadata": {},
     "output_type": "execute_result"
    }
   ],
   "source": [
    ".//[@id=\"lines\"]"
   ]
  },
  {
   "cell_type": "code",
   "execution_count": 126,
   "metadata": {},
   "outputs": [
    {
     "data": {
      "text/html": [
       "[<DOM Element: g at 0x12818a310>, <DOM Element: g at 0x12818ad30>, <DOM Element: g at 0x127513e50>, <DOM Element: g at 0x12821b8b0>, <DOM Element: g at 0x12821b0d0>, <DOM Element: g at 0x12821b4c0>, <DOM Element: g at 0x12821b430>, <DOM Element: g at 0x12821b820>, <DOM Element: g at 0x12821baf0>, <DOM Element: g at 0x12821b310>, <DOM Element: g at 0x128264790>, <DOM Element: g at 0x1282640d0>]"
      ],
      "text/plain": [
       "[<DOM Element: g at 0x12818a310>,\n",
       " <DOM Element: g at 0x12818ad30>,\n",
       " <DOM Element: g at 0x127513e50>,\n",
       " <DOM Element: g at 0x12821b8b0>,\n",
       " <DOM Element: g at 0x12821b0d0>,\n",
       " <DOM Element: g at 0x12821b4c0>,\n",
       " <DOM Element: g at 0x12821b430>,\n",
       " <DOM Element: g at 0x12821b820>,\n",
       " <DOM Element: g at 0x12821baf0>,\n",
       " <DOM Element: g at 0x12821b310>,\n",
       " <DOM Element: g at 0x128264790>,\n",
       " <DOM Element: g at 0x1282640d0>]"
      ]
     },
     "execution_count": 126,
     "metadata": {},
     "output_type": "execute_result"
    }
   ],
   "source": []
  },
  {
   "cell_type": "code",
   "execution_count": null,
   "metadata": {},
   "outputs": [],
   "source": []
  },
  {
   "cell_type": "code",
   "execution_count": null,
   "metadata": {},
   "outputs": [],
   "source": []
  }
 ],
 "metadata": {
  "kernelspec": {
   "display_name": "Python 3.9.13 ('python-3.9.13': venv)",
   "language": "python",
   "name": "python3"
  },
  "language_info": {
   "codemirror_mode": {
    "name": "ipython",
    "version": 3
   },
   "file_extension": ".py",
   "mimetype": "text/x-python",
   "name": "python",
   "nbconvert_exporter": "python",
   "pygments_lexer": "ipython3",
   "version": "3.9.13"
  },
  "orig_nbformat": 4,
  "vscode": {
   "interpreter": {
    "hash": "d9c489737dff991e7ead8606383841cdd62971ca7ea725ef623f0e1814f11fa1"
   }
  }
 },
 "nbformat": 4,
 "nbformat_minor": 2
}
