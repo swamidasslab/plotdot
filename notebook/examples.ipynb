{
 "cells": [
  {
   "cell_type": "code",
   "execution_count": null,
   "id": "a28064fa",
   "metadata": {
    "papermill": {
     "duration": null,
     "end_time": null,
     "exception": null,
     "start_time": null,
     "status": "completed"
    },
    "tags": []
   },
   "outputs": [],
   "source": [
    "\n",
    "from xenopict import shaded_svg, XenopictDrawer\n",
    "\n",
    "%load_ext autoreload\n",
    "%autoreload 2\n",
    "\n",
    "from rdkit import Chem\n",
    "import rdkit.Chem.rdPartialCharges\n",
    "from IPython.display import SVG\n",
    "import numpy as np\n",
    "\n",
    "\n",
    "diclofenac = mol = rdkit.Chem.MolFromSmiles('O=C(O)Cc1ccccc1Nc1c(Cl)cccc1Cl')\n",
    "rdkit.Chem.rdPartialCharges.ComputeGasteigerCharges(mol)\n",
    "shading = np.array([a.GetDoubleProp(\"_GasteigerCharge\")  for a in mol.GetAtoms()])\n",
    "shading = shading / abs(shading).max()  # partial charge (scaled to [-1, 1])\n",
    "\n"
   ]
  },
  {
   "cell_type": "code",
   "execution_count": null,
   "id": "20142454",
   "metadata": {
    "papermill": {
     "duration": null,
     "end_time": null,
     "exception": null,
     "start_time": null,
     "status": "completed"
    },
    "tags": []
   },
   "outputs": [],
   "source": [
    "# Atom shading \n",
    "drawer = XenopictDrawer(mol)\n",
    "drawer.shade(shading)\n",
    "drawer.halo()\n"
   ]
  },
  {
   "cell_type": "code",
   "execution_count": null,
   "id": "ee5fbf5a",
   "metadata": {
    "papermill": {
     "duration": null,
     "end_time": null,
     "exception": null,
     "start_time": null,
     "status": "completed"
    },
    "tags": []
   },
   "outputs": [],
   "source": [
    "a1 = [b.GetBeginAtomIdx() for b in mol.GetBonds()]\n",
    "a2 = [b.GetEndAtomIdx() for b in mol.GetBonds()]\n",
    "bshading = (shading[a1] + shading[a2])  / 2\n",
    "\n",
    "# Bond shading\n",
    "drawer = XenopictDrawer(mol)\n",
    "drawer.shade(bond_shading=(a1, a2, bshading)).halo()"
   ]
  },
  {
   "cell_type": "code",
   "execution_count": null,
   "id": "18bf0ae9",
   "metadata": {
    "papermill": {
     "duration": null,
     "end_time": null,
     "exception": null,
     "start_time": null,
     "status": "completed"
    },
    "tags": []
   },
   "outputs": [],
   "source": [
    "# Atom and bond shading togetehr\n",
    "drawer = XenopictDrawer(mol)\n",
    "drawer.shade(shading, bond_shading=(a1, a2, bshading))\n",
    "drawer.halo()"
   ]
  },
  {
   "cell_type": "code",
   "execution_count": null,
   "id": "ede56cf0",
   "metadata": {
    "papermill": {
     "duration": null,
     "end_time": null,
     "exception": null,
     "start_time": null,
     "status": "completed"
    },
    "tags": []
   },
   "outputs": [],
   "source": [
    "# Mark substructures (defined as a list of atom IDs)\n",
    "drawer.mark_substructure([0,1,2,3, 10])"
   ]
  },
  {
   "cell_type": "code",
   "execution_count": null,
   "id": "9f501b6a",
   "metadata": {
    "papermill": {
     "duration": null,
     "end_time": null,
     "exception": null,
     "start_time": null,
     "status": "completed"
    },
    "tags": []
   },
   "outputs": [],
   "source": [
    "# Shade substructures\n",
    "drawer = XenopictDrawer(mol)\n",
    "drawer.shade_substructure([[0,1,2,3], [7,8,9,10], [3,4,5,9]], [1, -0.65, 0.6])\n",
    "drawer.halo()\n"
   ]
  },
  {
   "cell_type": "code",
   "execution_count": null,
   "id": "e9173899",
   "metadata": {
    "papermill": {
     "duration": null,
     "end_time": null,
     "exception": null,
     "start_time": null,
     "status": "completed"
    },
    "tags": []
   },
   "outputs": [],
   "source": [
    "# Another one of the xenosite colormaps\n",
    "XenopictDrawer(mol, cmap=\"xenosite_pwo\").shade(shading).halo()"
   ]
  },
  {
   "cell_type": "code",
   "execution_count": null,
   "id": "16a1af3e",
   "metadata": {
    "papermill": {
     "duration": null,
     "end_time": null,
     "exception": null,
     "start_time": null,
     "status": "completed"
    },
    "tags": []
   },
   "outputs": [],
   "source": [
    "# any matplotlib colormap works, but most won't look as good as the default\n",
    "XenopictDrawer(mol, cmap=\"RdBu\").shade(shading).halo()"
   ]
  },
  {
   "cell_type": "code",
   "execution_count": null,
   "id": "187da6c5",
   "metadata": {
    "papermill": {
     "duration": null,
     "end_time": null,
     "exception": null,
     "start_time": null,
     "status": "completed"
    },
    "tags": []
   },
   "outputs": [],
   "source": [
    "# depeict a substructure\n",
    "drawer = XenopictDrawer(mol)\n",
    "drawer.substructure_focus([0,1,2,3])\n"
   ]
  },
  {
   "cell_type": "code",
   "execution_count": null,
   "id": "46053a6c",
   "metadata": {
    "papermill": {
     "duration": null,
     "end_time": null,
     "exception": null,
     "start_time": null,
     "status": "completed"
    },
    "tags": []
   },
   "outputs": [],
   "source": [
    "#get the SVG\n",
    "svg = str(drawer)\n",
    "print(svg)"
   ]
  },
  {
   "cell_type": "code",
   "execution_count": null,
   "id": "7e9ca950",
   "metadata": {
    "papermill": {
     "duration": null,
     "end_time": null,
     "exception": null,
     "start_time": null,
     "status": "completed"
    },
    "tags": []
   },
   "outputs": [],
   "source": []
  }
 ],
 "metadata": {
  "kernelspec": {
   "display_name": "Python 3.10.6 ('python-3.10.6': venv)",
   "language": "python",
   "name": "python3"
  },
  "language_info": {
   "codemirror_mode": {
    "name": "ipython",
    "version": 3
   },
   "file_extension": ".py",
   "mimetype": "text/x-python",
   "name": "python",
   "nbconvert_exporter": "python",
   "pygments_lexer": "ipython3",
   "version": "3.10.6"
  },
  "papermill": {
   "default_parameters": {},
   "duration": 0.748298,
   "end_time": "2022-09-14T04:05:26.563041",
   "environment_variables": {},
   "exception": null,
   "input_path": "notebook/examples.ipynb",
   "output_path": "notebook/examples.ipynb",
   "parameters": {},
   "start_time": "2022-09-14T04:05:25.814743",
   "version": "2.4.0"
  },
  "vscode": {
   "interpreter": {
    "hash": "6734a166722bf6674b58eb4c016fe11c598fb1f37c804033d869cf899c90f238"
   }
  }
 },
 "nbformat": 4,
 "nbformat_minor": 5
}