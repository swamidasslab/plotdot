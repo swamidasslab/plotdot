{
 "cells": [
  {
   "cell_type": "code",
   "execution_count": null,
   "metadata": {},
   "outputs": [],
   "source": [
    "import xenopict.magic\n",
    "import pandas as pd\n",
    "from rdkit import Chem\n",
    "from xenopict import Xenopict\n",
    "\n",
    "\n",
    "m = Xenopict(\"O=C(O)Cc1ccccc1Nc1c(Cl)cccc1Cl\") "
   ]
  },
  {
   "cell_type": "code",
   "execution_count": null,
   "metadata": {},
   "outputs": [],
   "source": [
    "df = pd.DataFrame.from_records([[\"O=C(O)Cc1ccccc1Nc1c(Cl)cccc1Cl\"],[ \"CCC\"]], columns=[\"Smiles\"])\n",
    "df[\"Xenopict\"] = df[\"Smiles\"].apply(Xenopict)\n",
    "df[\"RDMol\"] = df[\"Smiles\"].apply(Chem.MolFromSmiles)\n",
    "df = df.set_index(\"Smiles\")\n"
   ]
  },
  {
   "cell_type": "code",
   "execution_count": null,
   "metadata": {},
   "outputs": [],
   "source": [
    "df.style"
   ]
  },
  {
   "cell_type": "code",
   "execution_count": null,
   "metadata": {},
   "outputs": [],
   "source": [
    "\n",
    "df[\"Xenopict\"][df[\"Xenopict\"] >= \"cNcc[Cl]\"].to_list()"
   ]
  },
  {
   "cell_type": "code",
   "execution_count": null,
   "metadata": {},
   "outputs": [],
   "source": [
    "df.style"
   ]
  }
 ],
 "metadata": {
  "kernelspec": {
   "display_name": "Python 3.9.13 ('python-3.9.13': venv)",
   "language": "python",
   "name": "python3"
  },
  "language_info": {
   "codemirror_mode": {
    "name": "ipython",
    "version": 3
   },
   "file_extension": ".py",
   "mimetype": "text/x-python",
   "name": "python",
   "nbconvert_exporter": "python",
   "pygments_lexer": "ipython3",
   "version": "3.9.13"
  },
  "vscode": {
   "interpreter": {
    "hash": "d9c489737dff991e7ead8606383841cdd62971ca7ea725ef623f0e1814f11fa1"
   }
  }
 },
 "nbformat": 4,
 "nbformat_minor": 2
}
