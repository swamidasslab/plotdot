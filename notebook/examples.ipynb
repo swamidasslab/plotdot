{
 "cells": [
  {
   "cell_type": "markdown",
   "id": "def0600a",
   "metadata": {},
   "source": [
    "# Quickstart"
   ]
  },
  {
   "cell_type": "markdown",
   "id": "a28064fa",
   "metadata": {
    "execution": {
     "iopub.execute_input": "2022-09-28T03:54:32.225432Z",
     "iopub.status.busy": "2022-09-28T03:54:32.225080Z",
     "iopub.status.idle": "2022-09-28T03:54:33.013422Z",
     "shell.execute_reply": "2022-09-28T03:54:33.012201Z"
    },
    "papermill": {
     "duration": null,
     "end_time": null,
     "exception": null,
     "start_time": null,
     "status": "completed"
    },
    "tags": []
   },
   "source": [
    "Xenopict is a python library for depicting molecules.\n"
   ]
  },
  {
   "cell_type": "markdown",
   "id": "e35cea85",
   "metadata": {},
   "source": [
    "## Installation\n",
    "\n",
    "Xenopict installs from pypi.\n",
    "\n",
    "```console\n",
    "pip install xenopict\n",
    "```\n",
    "\n",
    "The package is only tested on Python 3.10 and 3.9. It may run on earlier versions of python, but we do not intend to maintain compatibility.\n"
   ]
  },
  {
   "cell_type": "markdown",
   "id": "ec51c047",
   "metadata": {},
   "source": [
    "## Reading in a Molecule\n",
    "\n",
    "The main entrypoint to xenopict is the Xenopict class, which is initialized with a small molecule. The class can take a SMILES String"
   ]
  },
  {
   "cell_type": "code",
   "execution_count": null,
   "id": "6577aaf0",
   "metadata": {},
   "outputs": [],
   "source": [
    "from xenopict import Xenopict     \n",
    "mol = Xenopict('O=C(O)Cc1ccccc1Nc1c(Cl)cccc1Cl')"
   ]
  },
  {
   "cell_type": "markdown",
   "id": "10d52921",
   "metadata": {},
   "source": [
    "It can also be initialized with a RDKit mol."
   ]
  },
  {
   "cell_type": "code",
   "execution_count": null,
   "id": "fb6a88c1",
   "metadata": {},
   "outputs": [],
   "source": [
    "from rdkit import Chem\n",
    "mol = Chem.MolFromSmiles('O=C(O)Cc1ccccc1Nc1c(Cl)cccc1Cl')\n",
    "diclofenac = mol = Xenopict(mol)"
   ]
  },
  {
   "cell_type": "markdown",
   "id": "6da089c0",
   "metadata": {},
   "source": [
    "Now that a molecule is loaded, we can display it easily in a notebook."
   ]
  },
  {
   "cell_type": "code",
   "execution_count": 17,
   "id": "94ff7b31",
   "metadata": {},
   "outputs": [
    {
     "data": {
      "image/png": "[encoded data removed]",
      "image/svg+xml": "<?xml version=\"1.0\" ?><svg xmlns=\"http://www.w3.org/2000/svg\" xmlns:xlink=\"http://www.w3.org/1999/xlink\" version=\"1.1\" baseProfile=\"full\" xml:space=\"preserve\" width=\"197.3\" height=\"117.6\" viewBox=\"-0.2 -17.8 197.3 117.6\"><g class=\"shading\"><g id=\"shading_xeno_43eb81baee\"/></g><g class=\"mol_halo\"><g id=\"mol_halo_xeno_43eb81baee\"/></g><g class=\"lines\" style=\"fill-rule:evenodd;stroke:#000000;stroke-width:2.0;stroke-opacity:1;stroke-linecap:round;stroke-linejoin:round\"><g id=\"lines_xeno_43eb81baee\"><path class=\"bond-0 atom-0 atom-1\" d=\"M 79.7,62.7 L 50.5,69.8\"/><path class=\"bond-0 atom-0 atom-1\" d=\"M 73.9,57.9 L 53.5,62.9\"/><path class=\"bond-1 atom-1 atom-2\" d=\"M 50.5,69.8 L 29.8,48.1\"/><path class=\"bond-2 atom-2 atom-3\" d=\"M 29.8,48.1 L 38.3,19.3\"/><path class=\"bond-2 atom-2 atom-3\" d=\"M 36.9,45.4 L 42.8,25.3\"/><path class=\"bond-3 atom-3 atom-4\" d=\"M 38.3,19.3 L 67.5,12.2\"/><path class=\"bond-4 atom-4 atom-5\" d=\"M 67.5,12.2 L 88.2,33.9\"/><path class=\"bond-4 atom-4 atom-5\" d=\"M 66.2,19.6 L 80.7,34.8\"/><path class=\"bond-5 atom-5 atom-6\" d=\"M 88.2,33.9 L 117.3,26.9\"/><path class=\"bond-6 atom-6 atom-7\" d=\"M 117.3,26.9 L 138.0,48.6\"/><path class=\"bond-7 atom-7 atom-8\" d=\"M 138.0,48.6 L 167.2,41.6\"/><path class=\"bond-8 atom-5 atom-0\" d=\"M 88.2,33.9 L 79.7,62.7\"/></g></g><g class=\"text\"><g id=\"text_xeno_43eb81baee\"/></g><g class=\"overlay\"><g id=\"overlay_xeno_43eb81baee\"/></g><script type=\"application/json\">{&quot;coords&quot;: [[79.7, 62.7], [50.5, 69.8], [29.8, 48.1], [38.3, 19.3], [67.5, 12.2], [88.2, 33.9], [117.3, 26.9], [138.0, 48.6], [167.2, 41.6]], &quot;scale&quot;: 20}</script></svg>",
      "text/plain": [
       "<rdkit.Chem.rdchem.Mol at 0x119d735e0>"
      ]
     },
     "execution_count": 17,
     "metadata": {},
     "output_type": "execute_result"
    }
   ],
   "source": [
    "from xenopict import magic # the magic package enables several integrations with notebooks\n",
    "mol"
   ]
  },
  {
   "cell_type": "markdown",
   "id": "165c14fa",
   "metadata": {},
   "source": [
    "## Atom and Bond Shading\n",
    "\n",
    "Xenopict can shade molecules by with an intensity, which can range from -1 to 1. This shading is percepually uniform, implemented in concise vector graphics. Xenosite produces an SVG, which can be accessed with the 'to_svg' method.\n",
    "\n",
    "To demonstrate, we will shade a molecule by its partial charge, which we compute from the RDKit library. Each atom is assigned a number in a vector."
   ]
  },
  {
   "cell_type": "code",
   "execution_count": null,
   "id": "6cf03923",
   "metadata": {},
   "outputs": [],
   "source": [
    "import rdkit.Chem.rdPartialCharges\n",
    "import numpy as np\n",
    "rdkit.Chem.rdPartialCharges.ComputeGasteigerCharges(mol.mol)\n",
    "shading = np.array([a.GetDoubleProp(\"_GasteigerCharge\")  for a in mol.GetAtoms()])\n",
    "shading = shading / abs(shading).max()  # partial charge (scaled to [-1, 1])\n",
    "shading"
   ]
  },
  {
   "cell_type": "markdown",
   "id": "e566213b",
   "metadata": {},
   "source": [
    "The shading is applied to molecule using the \"shade\" method. The \"halo\" method adds a halo effect that aids visibility. "
   ]
  },
  {
   "cell_type": "code",
   "execution_count": null,
   "id": "20142454",
   "metadata": {
    "execution": {
     "iopub.execute_input": "2022-09-28T03:54:33.018876Z",
     "iopub.status.busy": "2022-09-28T03:54:33.018476Z",
     "iopub.status.idle": "2022-09-28T03:54:33.103670Z",
     "shell.execute_reply": "2022-09-28T03:54:33.102815Z"
    },
    "papermill": {
     "duration": null,
     "end_time": null,
     "exception": null,
     "start_time": null,
     "status": "completed"
    },
    "tags": []
   },
   "outputs": [],
   "source": [
    "Xenopict(mol).shade(shading).halo()\n"
   ]
  },
  {
   "cell_type": "markdown",
   "id": "c6e1314e",
   "metadata": {
    "execution": {
     "iopub.execute_input": "2022-09-28T03:54:33.108106Z",
     "iopub.status.busy": "2022-09-28T03:54:33.107743Z",
     "iopub.status.idle": "2022-09-28T03:54:33.185580Z",
     "shell.execute_reply": "2022-09-28T03:54:33.184694Z"
    }
   },
   "source": [
    "We can shade molecules by bond too. To demonstrate, we will create a shading vector for bonds that is the average charge of the atom at each end."
   ]
  },
  {
   "cell_type": "code",
   "execution_count": null,
   "id": "ee5fbf5a",
   "metadata": {
    "execution": {
     "iopub.execute_input": "2022-09-28T03:54:33.190150Z",
     "iopub.status.busy": "2022-09-28T03:54:33.189771Z",
     "iopub.status.idle": "2022-09-28T03:54:33.267765Z",
     "shell.execute_reply": "2022-09-28T03:54:33.266822Z"
    },
    "papermill": {
     "duration": null,
     "end_time": null,
     "exception": null,
     "start_time": null,
     "status": "completed"
    },
    "tags": []
   },
   "outputs": [],
   "source": [
    "a1 = [b.GetBeginAtomIdx() for b in mol.GetBonds()]\n",
    "a2 = [b.GetEndAtomIdx() for b in mol.GetBonds()]\n",
    "bshading = (shading[a1] + shading[a2])  / 2\n",
    "bshading"
   ]
  },
  {
   "cell_type": "code",
   "execution_count": null,
   "id": "a7fdaa85",
   "metadata": {},
   "outputs": [],
   "source": [
    "Xenopict(mol).shade(bond_shading=(a1, a2, bshading)).halo()"
   ]
  },
  {
   "cell_type": "markdown",
   "id": "2b97c8a2",
   "metadata": {},
   "source": [
    "Atoms and bonds can be shaded together at the same time."
   ]
  },
  {
   "cell_type": "code",
   "execution_count": null,
   "id": "18bf0ae9",
   "metadata": {
    "execution": {
     "iopub.execute_input": "2022-09-28T03:54:33.272560Z",
     "iopub.status.busy": "2022-09-28T03:54:33.271908Z",
     "iopub.status.idle": "2022-09-28T03:54:33.371489Z",
     "shell.execute_reply": "2022-09-28T03:54:33.370505Z"
    },
    "papermill": {
     "duration": null,
     "end_time": null,
     "exception": null,
     "start_time": null,
     "status": "completed"
    },
    "tags": []
   },
   "outputs": [],
   "source": [
    "x = Xenopict(mol).shade(shading, bond_shading=(a1, a2, bshading)).halo()\n",
    "x"
   ]
  },
  {
   "cell_type": "markdown",
   "id": "7ea174aa",
   "metadata": {},
   "source": [
    "## Marking, Shading and Focusing Substructures\n",
    "\n",
    "At times we want to mark a substructure. We can do so by supplying a list of atom idxs."
   ]
  },
  {
   "cell_type": "code",
   "execution_count": null,
   "id": "ede56cf0",
   "metadata": {
    "execution": {
     "iopub.execute_input": "2022-09-28T03:54:33.376056Z",
     "iopub.status.busy": "2022-09-28T03:54:33.375424Z",
     "iopub.status.idle": "2022-09-28T03:54:33.416834Z",
     "shell.execute_reply": "2022-09-28T03:54:33.415956Z"
    },
    "papermill": {
     "duration": null,
     "end_time": null,
     "exception": null,
     "start_time": null,
     "status": "completed"
    },
    "tags": []
   },
   "outputs": [],
   "source": [
    "x.mark_substructure([0,1,2,3])"
   ]
  },
  {
   "cell_type": "markdown",
   "id": "cf99f2e5",
   "metadata": {},
   "source": [
    "We can also shade substructures, by specifying them as lists of IDs, wiht a list of shading values. Substructures with intensities closer to zero are painted behind those with higher intensities. "
   ]
  },
  {
   "cell_type": "code",
   "execution_count": null,
   "id": "9f501b6a",
   "metadata": {
    "execution": {
     "iopub.execute_input": "2022-09-28T03:54:33.421476Z",
     "iopub.status.busy": "2022-09-28T03:54:33.420872Z",
     "iopub.status.idle": "2022-09-28T03:54:33.510526Z",
     "shell.execute_reply": "2022-09-28T03:54:33.509705Z"
    },
    "papermill": {
     "duration": null,
     "end_time": null,
     "exception": null,
     "start_time": null,
     "status": "completed"
    },
    "tags": []
   },
   "outputs": [],
   "source": [
    "substr1 = [0,1,2,3]\n",
    "substr2 = [7,8,9,10]\n",
    "substr3 = [3,4,5,9]\n",
    "\n",
    "shading = [1, -0.65, 0.6]\n",
    "\n",
    "Xenopict(mol).shade_substructure([substr1, substr2, substr3], shading)\n",
    "\n"
   ]
  },
  {
   "cell_type": "markdown",
   "id": "de1500e4",
   "metadata": {},
   "source": [
    "By default, xenopict adds in all the bonds joining a group of atoms. But sometimes this includes\n",
    "bonds that were not wanted. Substructures can be more precisely specified by including a list of bonds. "
   ]
  },
  {
   "cell_type": "code",
   "execution_count": null,
   "id": "c71c993d",
   "metadata": {},
   "outputs": [],
   "source": [
    "mol = Chem.MolFromSmiles(\"c1ccccc1CCC\")\n",
    "\n",
    "atoms = [0,1,2,3,4,5]\n",
    "bonds = [[0,1], [2,1], [2,3], [3,4],[4, 5], [5,6]]\n",
    "\n",
    "Xenopict(mol).shade_substructure([atoms], [-0.8]), \\\n",
    "Xenopict(mol).shade_substructure([atoms], [0.8], [bonds])\n"
   ]
  },
  {
   "cell_type": "markdown",
   "id": "63479f62",
   "metadata": {},
   "source": [
    "Alongside shadings or alternately to them, we can also depict a substructure in isolation."
   ]
  },
  {
   "cell_type": "code",
   "execution_count": null,
   "id": "187da6c5",
   "metadata": {
    "execution": {
     "iopub.execute_input": "2022-09-28T03:54:33.676620Z",
     "iopub.status.busy": "2022-09-28T03:54:33.676253Z",
     "iopub.status.idle": "2022-09-28T03:54:33.728995Z",
     "shell.execute_reply": "2022-09-28T03:54:33.728135Z"
    },
    "papermill": {
     "duration": null,
     "end_time": null,
     "exception": null,
     "start_time": null,
     "status": "completed"
    },
    "tags": []
   },
   "outputs": [],
   "source": [
    "Xenopict(mol).substructure_focus(atoms), \\\n",
    "Xenopict(mol).substructure_focus(atoms, bonds)"
   ]
  },
  {
   "cell_type": "markdown",
   "id": "00d11575",
   "metadata": {},
   "source": [
    "## Adding Atom Indices\n",
    "\n",
    "Molecules can be drawn with indices too."
   ]
  },
  {
   "cell_type": "code",
   "execution_count": null,
   "id": "c865e990",
   "metadata": {},
   "outputs": [],
   "source": [
    "x = Xenopict(mol,scale=30,  add_atom_indices=True)\n",
    "x\n"
   ]
  },
  {
   "cell_type": "markdown",
   "id": "62b1606f",
   "metadata": {},
   "source": [
    "Atom IDs are carried over to substructure depictions, but they are not filtered out yet."
   ]
  },
  {
   "cell_type": "code",
   "execution_count": null,
   "id": "237ef89f",
   "metadata": {},
   "outputs": [],
   "source": [
    "x.substructure_focus([4,5,6])"
   ]
  },
  {
   "cell_type": "markdown",
   "id": "4b22b14c",
   "metadata": {},
   "source": []
  },
  {
   "cell_type": "code",
   "execution_count": null,
   "id": "846af93c",
   "metadata": {},
   "outputs": [],
   "source": []
  }
 ],
 "metadata": {
  "kernelspec": {
   "display_name": "Python 3.9.13 ('python-3.9.13': venv)",
   "language": "python",
   "name": "python3"
  },
  "language_info": {
   "codemirror_mode": {
    "name": "ipython",
    "version": 3
   },
   "file_extension": ".py",
   "mimetype": "text/x-python",
   "name": "python",
   "nbconvert_exporter": "python",
   "pygments_lexer": "ipython3",
   "version": "3.9.13"
  },
  "papermill": {
   "default_parameters": {},
   "duration": 0.748298,
   "end_time": "2022-09-14T04:05:26.563041",
   "environment_variables": {},
   "exception": null,
   "input_path": "notebook/examples.ipynb",
   "output_path": "notebook/examples.ipynb",
   "parameters": {},
   "start_time": "2022-09-14T04:05:25.814743",
   "version": "2.4.0"
  },
  "vscode": {
   "interpreter": {
    "hash": "d9c489737dff991e7ead8606383841cdd62971ca7ea725ef623f0e1814f11fa1"
   }
  }
 },
 "nbformat": 4,
 "nbformat_minor": 5
}
