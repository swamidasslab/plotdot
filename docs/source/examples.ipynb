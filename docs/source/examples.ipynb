{
 "cells": [
  {
   "cell_type": "markdown",
   "id": "f100a031",
   "metadata": {
    "papermill": {
     "duration": null,
     "end_time": null,
     "exception": null,
     "start_time": null,
     "status": "completed"
    },
    "tags": []
   },
   "source": [
    "# My Title"
   ]
  },
  {
   "cell_type": "code",
   "execution_count": null,
   "id": "a28064fa",
   "metadata": {
    "papermill": {
     "duration": null,
     "end_time": null,
     "exception": null,
     "start_time": null,
     "status": "completed"
    },
    "tags": []
   },
   "outputs": [],
   "source": [
    "\n",
    "from xenopict import Xenopict, magic\n",
    "from rdkit import Chem\n",
    "import rdkit.Chem.rdPartialCharges\n",
    "\n",
    "import numpy as np\n",
    "\n",
    "\n",
    "diclofenac = mol = Xenopict('O=C(O)Cc1ccccc1Nc1c(Cl)cccc1Cl')\n",
    "rdkit.Chem.rdPartialCharges.ComputeGasteigerCharges(mol.mol)\n",
    "shading = np.array([a.GetDoubleProp(\"_GasteigerCharge\")  for a in mol.GetAtoms()])\n",
    "shading = shading / abs(shading).max()  # partial charge (scaled to [-1, 1])\n",
    "\n",
    "# increase the default scale\n",
    "Xenopict.scale = 30"
   ]
  },
  {
   "cell_type": "markdown",
   "id": "f6f23938",
   "metadata": {
    "papermill": {
     "duration": null,
     "end_time": null,
     "exception": null,
     "start_time": null,
     "status": "completed"
    },
    "tags": []
   },
   "source": []
  },
  {
   "cell_type": "code",
   "execution_count": null,
   "id": "20142454",
   "metadata": {
    "papermill": {
     "duration": null,
     "end_time": null,
     "exception": null,
     "start_time": null,
     "status": "completed"
    },
    "tags": []
   },
   "outputs": [],
   "source": [
    "# Atom shading \n",
    "drawer = Xenopict(mol, cmap=\"xenosite_bwr\")\n",
    "drawer.shade(shading).halo()"
   ]
  },
  {
   "cell_type": "code",
   "execution_count": null,
   "id": "152c1246",
   "metadata": {
    "papermill": {
     "duration": null,
     "end_time": null,
     "exception": null,
     "start_time": null,
     "status": "completed"
    },
    "tags": []
   },
   "outputs": [],
   "source": []
  },
  {
   "cell_type": "code",
   "execution_count": null,
   "id": "c6e1314e",
   "metadata": {
    "papermill": {
     "duration": null,
     "end_time": null,
     "exception": null,
     "start_time": null,
     "status": "completed"
    },
    "tags": []
   },
   "outputs": [],
   "source": [
    "Xenopict(mol).shade(shading).halo()\n",
    "\n"
   ]
  },
  {
   "cell_type": "code",
   "execution_count": null,
   "id": "ee5fbf5a",
   "metadata": {
    "papermill": {
     "duration": null,
     "end_time": null,
     "exception": null,
     "start_time": null,
     "status": "completed"
    },
    "tags": []
   },
   "outputs": [],
   "source": [
    "a1 = [b.GetBeginAtomIdx() for b in mol.GetBonds()]\n",
    "a2 = [b.GetEndAtomIdx() for b in mol.GetBonds()]\n",
    "bshading = (shading[a1] + shading[a2])  / 2\n",
    "\n",
    "# Bond shading\n",
    "drawer = Xenopict(mol)\n",
    "drawer.shade(bond_shading=(a1, a2, bshading)).halo()"
   ]
  },
  {
   "cell_type": "code",
   "execution_count": null,
   "id": "18bf0ae9",
   "metadata": {
    "papermill": {
     "duration": null,
     "end_time": null,
     "exception": null,
     "start_time": null,
     "status": "completed"
    },
    "tags": []
   },
   "outputs": [],
   "source": [
    "# Atom and bond shading togetehr\n",
    "drawer = Xenopict(mol)\n",
    "drawer.shade(shading, bond_shading=(a1, a2, bshading))\n",
    "drawer.halo()"
   ]
  },
  {
   "cell_type": "code",
   "execution_count": null,
   "id": "ede56cf0",
   "metadata": {
    "papermill": {
     "duration": null,
     "end_time": null,
     "exception": null,
     "start_time": null,
     "status": "completed"
    },
    "tags": []
   },
   "outputs": [],
   "source": [
    "# Mark substructures (defined as a list of atom IDs)\n",
    "drawer.mark_substructure([0,1,2,3, 10])"
   ]
  },
  {
   "cell_type": "code",
   "execution_count": null,
   "id": "9f501b6a",
   "metadata": {
    "papermill": {
     "duration": null,
     "end_time": null,
     "exception": null,
     "start_time": null,
     "status": "completed"
    },
    "tags": []
   },
   "outputs": [],
   "source": [
    "# Shade substructures\n",
    "drawer = Xenopict(mol)\n",
    "drawer.shade_substructure([[0,1,2,3], [7,8,9,10], [3,4,5,9]], [1, -0.65, 0.6])\n",
    "drawer.halo()\n"
   ]
  },
  {
   "cell_type": "code",
   "execution_count": null,
   "id": "e9173899",
   "metadata": {
    "papermill": {
     "duration": null,
     "end_time": null,
     "exception": null,
     "start_time": null,
     "status": "completed"
    },
    "tags": []
   },
   "outputs": [],
   "source": [
    "# Another one of the xenosite colormaps\n",
    "Xenopict(mol, cmap=\"xenosite_pwo\").shade(shading).halo()"
   ]
  },
  {
   "cell_type": "code",
   "execution_count": null,
   "id": "16a1af3e",
   "metadata": {
    "papermill": {
     "duration": null,
     "end_time": null,
     "exception": null,
     "start_time": null,
     "status": "completed"
    },
    "tags": []
   },
   "outputs": [],
   "source": [
    "# any matplotlib colormap works, but most won't look as good as the default\n",
    "Xenopict(mol, cmap=\"RdBu\", scale=30).shade(shading).halo()"
   ]
  },
  {
   "cell_type": "code",
   "execution_count": null,
   "id": "187da6c5",
   "metadata": {
    "papermill": {
     "duration": null,
     "end_time": null,
     "exception": null,
     "start_time": null,
     "status": "completed"
    },
    "tags": []
   },
   "outputs": [],
   "source": [
    "# depeict a substructure\n",
    "drawer = Xenopict(mol)\n",
    "drawer.substructure_focus([0,1,2,3])"
   ]
  },
  {
   "cell_type": "code",
   "execution_count": null,
   "id": "9b501f00",
   "metadata": {
    "papermill": {
     "duration": null,
     "end_time": null,
     "exception": null,
     "start_time": null,
     "status": "completed"
    },
    "tags": []
   },
   "outputs": [],
   "source": [
    "Xenopict('O=C(O)Cc1ccccc1Nc1c(Cl)cccc1Cl').mol"
   ]
  },
  {
   "cell_type": "code",
   "execution_count": null,
   "id": "84db9040",
   "metadata": {
    "papermill": {
     "duration": null,
     "end_time": null,
     "exception": null,
     "start_time": null,
     "status": "completed"
    },
    "tags": []
   },
   "outputs": [],
   "source": [
    "mol.mol.AdjustQueryProperties"
   ]
  },
  {
   "cell_type": "code",
   "execution_count": null,
   "id": "48a125dc",
   "metadata": {
    "papermill": {
     "duration": null,
     "end_time": null,
     "exception": null,
     "start_time": null,
     "status": "completed"
    },
    "tags": []
   },
   "outputs": [],
   "source": []
  }
 ],
 "metadata": {
  "kernelspec": {
   "display_name": "Python 3.9.13 64-bit ('3.9.13')",
   "language": "python",
   "name": "python3"
  },
  "language_info": {
   "codemirror_mode": {
    "name": "ipython",
    "version": 3
   },
   "file_extension": ".py",
   "mimetype": "text/x-python",
   "name": "python",
   "nbconvert_exporter": "python",
   "pygments_lexer": "ipython3",
   "version": "3.9.13"
  },
  "papermill": {
   "default_parameters": {},
   "duration": 0.558959,
   "end_time": "2022-09-20T17:58:47.587314",
   "environment_variables": {},
   "exception": null,
   "input_path": "examples.ipynb",
   "output_path": "source/examples.ipynb",
   "parameters": {},
   "start_time": "2022-09-20T17:58:47.028355",
   "version": "2.4.0"
  },
  "vscode": {
   "interpreter": {
    "hash": "e07571b7df8dc50636ca8ba0b91c67b2fb6c8bede880fbbd9ba02c8f51d5a157"
   }
  }
 },
 "nbformat": 4,
 "nbformat_minor": 5
}