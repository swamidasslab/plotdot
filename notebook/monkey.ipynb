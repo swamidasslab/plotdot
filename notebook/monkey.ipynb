{
 "cells": [
  {
   "cell_type": "code",
   "execution_count": 1,
   "metadata": {},
   "outputs": [
    {
     "ename": "NameError",
     "evalue": "name 'BoostPatcher' is not defined",
     "output_type": "error",
     "traceback": [
      "\u001b[0;31m---------------------------------------------------------------------------\u001b[0m",
      "\u001b[0;31mNameError\u001b[0m                                 Traceback (most recent call last)",
      "Cell \u001b[0;32mIn [1], line 38\u001b[0m\n\u001b[1;32m     34\u001b[0m     \u001b[38;5;28;01mreturn\u001b[39;00m func(\u001b[38;5;241m*\u001b[39margs, \u001b[38;5;241m*\u001b[39m\u001b[38;5;241m*\u001b[39mkwargs)\n\u001b[1;32m     37\u001b[0m \u001b[38;5;28;01mimport\u001b[39;00m \u001b[38;5;21;01mrdkit\u001b[39;00m\u001b[38;5;21;01m.\u001b[39;00m\u001b[38;5;21;01mChem\u001b[39;00m\n\u001b[0;32m---> 38\u001b[0m patcher \u001b[38;5;241m=\u001b[39m \u001b[43mBoostPatcher\u001b[49m(rdkit\u001b[38;5;241m.\u001b[39mChem, depth\u001b[38;5;241m=\u001b[39m\u001b[38;5;241m10\u001b[39m)\n\u001b[1;32m     40\u001b[0m patcher\u001b[38;5;241m.\u001b[39mpatches\n",
      "\u001b[0;31mNameError\u001b[0m: name 'BoostPatcher' is not defined"
     ]
    }
   ],
   "source": [
    "from decorator import decorator\n",
    "from xenopict import Xenopict\n",
    "import inspect\n",
    "import sys\n",
    "from typing import Callable\n",
    "\n",
    "POS = inspect.Parameter.POSITIONAL_OR_KEYWORD\n",
    "EMPTY = inspect.Parameter.empty\n",
    "from xenopict.monkey import Patcher\n",
    "\n",
    "\n",
    "class BoostError(Exception):\n",
    "    pass\n",
    "\n",
    "\n",
    "class BoostTypeError(TypeError):\n",
    "    pass\n",
    "\n",
    "@decorator\n",
    "def xenopict_adapter(func, *args, **kwargs):\n",
    "    adapt = lambda x : x.mol if isinstance(x, Xenopict) else x\n",
    "\n",
    "    args = [adapt(x) for x in args]\n",
    "    kwargs = {k: adapt(v) for k,v in kwargs.items()}\n",
    "    \n",
    "    return func(*args, **kwargs)\n",
    "\n",
    "from rdkit.Chem import MolFromSmiles\n",
    "\n",
    "\n",
    "@decorator\n",
    "def method_adapter(func, *args, **kwargs):\n",
    "    print(func, args, kwargs)\n",
    "    return func(*args, **kwargs)\n",
    "    \n",
    "\n",
    "import rdkit.Chem\n",
    "patcher = BoostPatcher(rdkit.Chem, depth=10)\n",
    "\n",
    "patcher.patches"
   ]
  },
  {
   "cell_type": "code",
   "execution_count": null,
   "metadata": {},
   "outputs": [
    {
     "data": {
      "text/plain": [
       "('function', 'class')"
      ]
     },
     "execution_count": 46,
     "metadata": {},
     "output_type": "execute_result"
    }
   ],
   "source": [
    "import rdkit\n",
    "from rdkit.Chem import Mol\n",
    "type(MolFromSmiles).__name__, type(Mol).__name__"
   ]
  },
  {
   "cell_type": "code",
   "execution_count": null,
   "metadata": {},
   "outputs": [],
   "source": [
    "from rdkit.Chem.rdchem import Mol\n",
    "\n",
    "dir(Mol)\n",
    "\n",
    "Mol.GetAtoms1 = method_adapter(boost_wrapper(Mol.GetAtoms))\n",
    "for a in MolFromSmiles(\"CCC\").GetAtoms1():\n",
    "    print(a)\n",
    "\n",
    "\n",
    "inspect.isclass(Mol.GetAtoms), inspect.isfunction(Mol.GetAtoms), inspect.isfunction(MolFromSmiles)"
   ]
  },
  {
   "cell_type": "code",
   "execution_count": null,
   "metadata": {},
   "outputs": [],
   "source": [
    "ArgumentError = e[0]"
   ]
  },
  {
   "cell_type": "code",
   "execution_count": null,
   "metadata": {},
   "outputs": [],
   "source": [
    "t = e[2]\n",
    "t"
   ]
  },
  {
   "cell_type": "code",
   "execution_count": null,
   "metadata": {},
   "outputs": [],
   "source": [
    "from xenopict.monkey import Patcher\n",
    "p = Patcher()\n",
    "\n",
    "class TestClass:\n",
    "    pass\n",
    "\n",
    "t = TestClass()\n",
    "\n",
    "\n",
    "p.replace(t,\"the_question\", 42)"
   ]
  },
  {
   "cell_type": "code",
   "execution_count": null,
   "metadata": {},
   "outputs": [],
   "source": [
    "\n",
    "p.install()\n",
    "print(t.the_question)\n",
    "p.uninstall()\n",
    "print(t.the_question)\n",
    "\n"
   ]
  },
  {
   "cell_type": "code",
   "execution_count": null,
   "metadata": {},
   "outputs": [],
   "source": [
    "with p:\n",
    "    t.the_question\n",
    "t.the_question"
   ]
  },
  {
   "cell_type": "code",
   "execution_count": null,
   "metadata": {},
   "outputs": [],
   "source": [
    "e = open(\"Makefile\").__exit__"
   ]
  },
  {
   "cell_type": "code",
   "execution_count": null,
   "metadata": {},
   "outputs": [],
   "source": [
    "e[0].__name__"
   ]
  },
  {
   "cell_type": "code",
   "execution_count": null,
   "metadata": {},
   "outputs": [],
   "source": [
    "from xenopict.monkey import Patch, Patcher\n",
    "\n",
    "\n",
    "\n",
    "class _TestClass:\n",
    "    clsattr = \"class_value\"\n",
    "\n",
    "    def __init__(self):\n",
    "        self.attr = \"init_value\"\n",
    "\n",
    "\n",
    "def test_patcher_absent():\n",
    "    P = Patcher()\n",
    "    obj = _TestClass()\n",
    "\n",
    "    P.replace(obj, \"the_answer\", 42)\n",
    "    P.install()\n",
    "    assert obj.the_answer == 42  # type: ignore\n",
    "    assert \"the_answer\" in obj.__dict__\n",
    "\n",
    "    P.uninstall()\n",
    "    assert \"the_answer\" not in obj.__dict__\n",
    "\n",
    "\n",
    "def test_patcher_attr():\n",
    "    P = Patcher()\n",
    "    obj = _TestClass()\n",
    "\n",
    "    P.replace(obj, \"attr\", 42)\n",
    "    P.replace(obj, \"new_attr\", 42)\n",
    "\n",
    "    assert not hasattr(obj, \"new_attr\")\n",
    "\n",
    "    P.install()\n",
    "    assert obj.attr == 42\n",
    "    assert obj.new_attr == 42  # type: ignore\n",
    "\n",
    "    P.uninstall()\n",
    "    assert obj.attr == \"init_value\"\n",
    "    assert not hasattr(obj, \"new_attr\")\n",
    "\n",
    "\n",
    "def test_patcher_clsattr():\n",
    "    P = Patcher()\n",
    "    obj = _TestClass()\n",
    "\n",
    "    P.replace(_TestClass, \"clsattr\", 42)\n",
    "    P.replace(_TestClass, \"new_clsattr\", 100)\n",
    "\n",
    "    assert not hasattr(obj, \"new_clsattr\")\n",
    "\n",
    "    P.install()\n",
    "    assert obj.clsattr == 42\n",
    "    assert obj.new_clsattr == 100  # type: ignore\n",
    "    assert \"new_clsattr\" not in obj.__dict__\n",
    "\n",
    "    P.uninstall()\n",
    "    assert obj.clsattr == \"class_value\"\n",
    "    assert \"clsattr\" not in obj.__dict__\n",
    "    assert not hasattr(obj, \"new_clsattr\")\n",
    "\n",
    "#test_patcher_clsattr()\n",
    "\n",
    "T = _TestClass\n",
    "T.test  = 2\n",
    "\n",
    "setattr(T, \"test\", 2)\n",
    "delattr()"
   ]
  },
  {
   "cell_type": "code",
   "execution_count": null,
   "metadata": {},
   "outputs": [],
   "source": [
    "type(_TestClass.__dict__)"
   ]
  },
  {
   "cell_type": "code",
   "execution_count": null,
   "metadata": {},
   "outputs": [],
   "source": []
  },
  {
   "cell_type": "code",
   "execution_count": null,
   "metadata": {},
   "outputs": [],
   "source": [
    "import rdkit\n",
    "rdkit.logger.handlers"
   ]
  },
  {
   "cell_type": "code",
   "execution_count": null,
   "metadata": {},
   "outputs": [],
   "source": [
    "list.test = 1"
   ]
  },
  {
   "cell_type": "code",
   "execution_count": null,
   "metadata": {},
   "outputs": [],
   "source": [
    "d = get_ipython().display_formatter.formatters[\"image/svg+xml\"]\n",
    "d\n"
   ]
  },
  {
   "cell_type": "code",
   "execution_count": null,
   "metadata": {},
   "outputs": [],
   "source": []
  },
  {
   "cell_type": "code",
   "execution_count": null,
   "metadata": {},
   "outputs": [],
   "source": [
    "import IPython.core.formatters\n",
    "IPython.core.formatters.HTMLFormatter.__call__(\"test\")"
   ]
  },
  {
   "cell_type": "code",
   "execution_count": null,
   "metadata": {},
   "outputs": [],
   "source": []
  },
  {
   "cell_type": "code",
   "execution_count": null,
   "metadata": {},
   "outputs": [],
   "source": []
  },
  {
   "cell_type": "code",
   "execution_count": null,
   "metadata": {},
   "outputs": [],
   "source": [
    "import inspect\n",
    "sig = inspect.signature(boost_decorator)"
   ]
  },
  {
   "cell_type": "code",
   "execution_count": null,
   "metadata": {},
   "outputs": [],
   "source": [
    "sig.parameters[\"input_mol\"]"
   ]
  },
  {
   "cell_type": "code",
   "execution_count": null,
   "metadata": {},
   "outputs": [],
   "source": [
    "\n",
    "\n",
    "\n",
    "def boost_wrap(caller, func):\n",
    "    def wrap(*args, **kwargs):\n",
    "        try:\n",
    "            return caller(func, *args, **kwargs)\n",
    "        except Exception:\n",
    "            ei = sys.exc_info()\n",
    "        boost_error_name = ei[0].__name__\n",
    "        \n",
    "        if  boost_error_name == \"ArgumentError\":\n",
    "            raise TypeError(ei[1]).with_traceback(ei[2].tb_next)\n",
    "\n",
    "        raise RuntimeError(f\"{boost_error_name}: {ei[1]}\").with_traceback(ei[2].tb_next)\n",
    "        \n",
    "    wrap.__name__ = func.__name__\n",
    "    wrap.__qualname__ = func.__name__\n",
    "    wrap.__module__ = func.__module__\n",
    "    wrap.__doc__ = func.__doc__\n",
    "    wrap.__wrapped__ = func\n",
    "    \n",
    "    return wrap\n",
    "\n",
    "def boost_decorator(caller):\n",
    "    def dec(func):\n",
    "        return boost_wrap(caller, func)\n",
    "\n",
    "    sig = inspect.signature(caller)\n",
    "    dec_params = [p for p in sig.parameters.values() if p.kind is POS]\n",
    "\n",
    "    dec.__signature__ = sig.replace(parameters=dec_params)\n",
    "    dec.__name__ = caller.__name__\n",
    "    dec.__doc__ = caller.__doc__\n",
    "    dec.__wrapped__ = caller\n",
    "    dec.__qualname__ = caller.__qualname__\n",
    "    dec.__kwdefaults__ = getattr(caller, '__kwdefaults__', None)\n",
    "    dec.__dict__.update(caller.__dict__)\n",
    "    return dec\n",
    "\n",
    "\n",
    "\n",
    "\n",
    "F = xenopict_adapter(MolFromSmiles)"
   ]
  },
  {
   "cell_type": "code",
   "execution_count": 58,
   "metadata": {},
   "outputs": [],
   "source": [
    " formatter = get_ipython().display_formatter.formatters[  # type: ignore\n",
    "        \"image/svg+xml\"\n",
    "    ] "
   ]
  },
  {
   "cell_type": "code",
   "execution_count": 68,
   "metadata": {},
   "outputs": [
    {
     "data": {
      "text/plain": [
       "{rdkit.Chem.rdchem.Mol: <function xenopict.magic._rdkit_repr_svg(mol)>,\n",
       " xml.dom.minidom.Document: <function xenopict.magic._minidom_repr_svg(doc)>}"
      ]
     },
     "execution_count": 68,
     "metadata": {},
     "output_type": "execute_result"
    }
   ],
   "source": [
    "formatter.type_printers\n"
   ]
  },
  {
   "cell_type": "code",
   "execution_count": 67,
   "metadata": {},
   "outputs": [],
   "source": [
    "import xenopict.magic"
   ]
  },
  {
   "cell_type": "code",
   "execution_count": 69,
   "metadata": {},
   "outputs": [
    {
     "ename": "NameError",
     "evalue": "name 'mol' is not defined",
     "output_type": "error",
     "traceback": [
      "\u001b[0;31m---------------------------------------------------------------------------\u001b[0m",
      "\u001b[0;31mNameError\u001b[0m                                 Traceback (most recent call last)",
      "Cell \u001b[0;32mIn [69], line 1\u001b[0m\n\u001b[0;32m----> 1\u001b[0m \u001b[38;5;28mrepr\u001b[39m(\u001b[43mmol\u001b[49m)\n",
      "\u001b[0;31mNameError\u001b[0m: name 'mol' is not defined"
     ]
    }
   ],
   "source": [
    "repr(mol)"
   ]
  },
  {
   "cell_type": "code",
   "execution_count": null,
   "metadata": {},
   "outputs": [],
   "source": []
  }
 ],
 "metadata": {
  "kernelspec": {
   "display_name": "Python 3.9.13 ('python-3.9.13': venv)",
   "language": "python",
   "name": "python3"
  },
  "language_info": {
   "codemirror_mode": {
    "name": "ipython",
    "version": 3
   },
   "file_extension": ".py",
   "mimetype": "text/x-python",
   "name": "python",
   "nbconvert_exporter": "python",
   "pygments_lexer": "ipython3",
   "version": "3.9.13"
  },
  "orig_nbformat": 4,
  "vscode": {
   "interpreter": {
    "hash": "d9c489737dff991e7ead8606383841cdd62971ca7ea725ef623f0e1814f11fa1"
   }
  }
 },
 "nbformat": 4,
 "nbformat_minor": 2
}
